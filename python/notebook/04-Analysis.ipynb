{
 "cells": [
  {
   "cell_type": "markdown",
   "metadata": {},
   "source": [
    "# การวิเคราะห์ขั้นตอนวิธี\n",
    "การวิเคราะห์ขั้นตอนวิธีมีความสำคัญ เนื่องจากเมื่อเราเขียนโปรแกรมเพื่อแก้โจทย์ใดโจทย์หนึ่ง อาจจะมีหลายวิธีในการแก้ปัญหา ซึ่งการจะบอกว่าวิธีไหนดีก็มองได้หลายมุมมอง โดยที่มุมมองหลักคือ ความเร็ว ยิ่งเร็วก็ยิ่งดี และพื้นที่ในหน่วยความจำที่ใช้ ใช้ยิ่งน้อยก็ยิ่งดี ซึ่งมักจะมองสองทั้งสองมุมควบคู่กันไป แต่ในรายวิชานี้จะมุ่งเน้นไปที่ความเร็วเป็นหลัก\n",
    "\n",
    "## จุดประสงค์\n",
    "* เพื่อเข้าใจหลักการของการวิเคราะห์ขั้นตอนวิธี\n",
    "* เพื่อให้สามารถเข้าใจการอธิบายความเร็วด้วย $O$ (Big-O)\n",
    "* เพื่อให้สามารถวัดเวลาการทำงานใน python ได้\n",
    "* เพื่อเปรียบเทียบการแก้ปัญหาด้วยขั้นตอนวิธีที่ต่างกันได้\n",
    "\n",
    "## 1. การบวกเลขอนุกรม\n",
    "เราลองมาดูปัญหาการบวกเลขอนุกรมง่ายๆ กัน <br>\n",
    "* กำหนดข้อมูลขาเข้า n คือ int\n",
    "* คำนวณผลบวกอนุกรม $s(n) = n + (n-1) + (n-2) + ... + 1$\n",
    "\n",
    "### 1.1 แก้ด้วยวงวน\n",
    "วิธีแก้ปัญหาง่ายมาก คือ วงวนเพื่อบวกเพิ่มไปเรื่อยๆ ตั้งแต่ n ถึง 1 หรือ 1 ถึง n ก็ได้ผลลัพธ์ที่ไม่ต่างกัน"
   ]
  },
  {
   "cell_type": "code",
   "execution_count": 48,
   "metadata": {},
   "outputs": [
    {
     "name": "stdout",
     "output_type": "stream",
     "text": [
      "55\n"
     ]
    }
   ],
   "source": [
    "def serialSum(n) :\n",
    "    mySum = 0\n",
    "    for i in range(1,n+1):\n",
    "        mySum = mySum + i\n",
    "    return mySum\n",
    "\n",
    "n = 10\n",
    "myOutput = serialSum(n)\n",
    "print(myOutput)"
   ]
  },
  {
   "cell_type": "markdown",
   "metadata": {},
   "source": [
    "### 1.2 แก้ด้วยความสัมพันธ์แบบเวียนเกิด (recursion)\n",
    "การแก้ด้วยความสัมพันธ์แบบเวียนเกิดหรือฟังก์ชันการเวียนเกิดนั้นจะต้องแปลงปัญหาให้อยู่ในรูปฟังก์ชันเรียกฟังก์ชันตัวเองก่อน และต้องระบุกรณีฐานด้วย คือ\n",
    "*ความสัมพันธ์แบบเวียนเกิดคือ $s(n) = n + s(n-1)$\n",
    "* กรณีฐาน คือ $s(1) = 1$"
   ]
  },
  {
   "cell_type": "markdown",
   "metadata": {},
   "source": [
    "การทำงานของรหัสด้านบนนี้คือ \n",
    "* เริ่มต้นที่ mySum = 0 แล้ว\n",
    "* บวก i = 1 เพิ่มไปด้วยวงวนแรก ใส่ค่าเข้าไปใน mySum ต่อด้วย\n",
    "* บวก i = 2 เพิ่มไปด้วยวงวนที่สอง ใส่ค่าเข้าไปใน mySum ต่อด้วย\n",
    "...\n",
    "* บวก i = n เพิ่มไปด้วยวงวนที่ n ใส่ค่าเข้าไปใน mySum\n",
    "\n",
    "---\n",
    "**NOTE**\n",
    "\n",
    "ข้อระวังในการใช้ range คือจะไล่ค่าจนกว่าจะไม่ถึง n+1 ซึ่งตัวสุดท้ายคือ n ตรงนี้ผิดกันเยอะมากและจะไม่พูดซ้ำอีก\n",
    "\n",
    "---\n",
    "\n",
    "ซึ่งเราจะเห็นว่ามีการทำงานทั้งหมด n รอบ พฤติกรรมลักษณะนี้จะเรียกว่ามีความซับซ้อนเป็นแบบเชิงเส้น หรือ $O(n)$"
   ]
  },
  {
   "cell_type": "code",
   "execution_count": 49,
   "metadata": {},
   "outputs": [
    {
     "name": "stdout",
     "output_type": "stream",
     "text": [
      "55\n"
     ]
    }
   ],
   "source": [
    "def serialSumRec(n):\n",
    "    if n == 1 :\n",
    "        return 1\n",
    "    else :\n",
    "        return n + serialSum(n-1)\n",
    "        \n",
    "n = 10\n",
    "mySum = serialSum(n)\n",
    "print(mySum)"
   ]
  },
  {
   "cell_type": "markdown",
   "metadata": {},
   "source": [
    "สำหรับการแก้ปัญหาด้วยความสัมพันธ์แบบเวียนเกิดนั้นจะค่อนข้างยากในการวิเคราะห์ ดังนั้นจึงใช้วิธีนับการเรียกฟังก์ชันให้ดูแทน"
   ]
  },
  {
   "cell_type": "code",
   "execution_count": 50,
   "metadata": {},
   "outputs": [
    {
     "name": "stdout",
     "output_type": "stream",
     "text": [
      "55 10\n"
     ]
    }
   ],
   "source": [
    "counter = 0\n",
    "\n",
    "def serialSumRec(n):\n",
    "    global counter\n",
    "    counter = counter + 1\n",
    "    if n == 1 :\n",
    "        return 1\n",
    "    else :\n",
    "        return n + serialSumRec(n-1)\n",
    "        \n",
    "n = 10\n",
    "mySum = serialSumRec(n)\n",
    "print(mySum, counter)"
   ]
  },
  {
   "cell_type": "markdown",
   "metadata": {},
   "source": [
    "มีการเรียก serialSum ทั้งหมด 10 ครั้งซึ่งเท่ากับ n ดังนั้นจึงสรุปได้ว่าความซับซ้อนเป็น $O(n)$ \n",
    "\n",
    "---\n",
    "**NOTE**\n",
    "\n",
    "ณ ตรงนี้มีประเด็นสำหรับ python อย่างหนึ่งคือ ตัวแปร counter ที่ต้องการใช้เป็น global คือ ตัวแปรที่จะถูกอ้างอิงถึงได้ตลอดทั้งรหัสเมื่อถูกอ้างอิงในฟังก์ชันจะต้องประกาศ global counter ก่อนเพื่อไม่ให้สับสนว่า counter เป็นตัวแปร local ในฟังก์ชันหรือ global\n",
    "\n",
    "---\n",
    "\n",
    "### 1.3 แก้ด้วยสูตรทางคณิตศาสตร์\n",
    "สูตรอนุกรมการบวกที่แก้โจทย์นี้คือ\n",
    "$s(n) = \\frac{n \\times (n+1)}{2}$"
   ]
  },
  {
   "cell_type": "code",
   "execution_count": 46,
   "metadata": {},
   "outputs": [
    {
     "name": "stdout",
     "output_type": "stream",
     "text": [
      "55\n"
     ]
    }
   ],
   "source": [
    "def serialSumClosed(n):\n",
    "    return n * (n+1) // 2\n",
    "        \n",
    "n = 10\n",
    "mySum = serialSumClosed(n)\n",
    "print(mySum)"
   ]
  },
  {
   "cell_type": "markdown",
   "metadata": {},
   "source": [
    "หาคำตอบได้ด้วยจำนวนคำสั่งที่เป็นค่าคงที่ ในที่นี้คือ 1 คำสั่ง หรือ $O(1)$ นั่นเอง\n",
    "\n",
    "### 1.4 เปรียบเทียบเวลา\n",
    "ทำการเปรียบเทียบระหว่างเวลาที่ใช้เมื่อ n = 100,000 ถึง 1,000,0000"
   ]
  },
  {
   "cell_type": "code",
   "execution_count": 45,
   "metadata": {},
   "outputs": [
    {
     "name": "stdout",
     "output_type": "stream",
     "text": [
      "n = 100000 required 0.00500369 seconds\n",
      "n = 200000 required 0.01100659 seconds\n",
      "n = 300000 required 0.01601315 seconds\n",
      "n = 400000 required 0.02002621 seconds\n",
      "n = 500000 required 0.02600574 seconds\n",
      "n = 600000 required 0.03003383 seconds\n",
      "n = 700000 required 0.03502464 seconds\n",
      "n = 800000 required 0.04002953 seconds\n",
      "n = 900000 required 0.04503274 seconds\n",
      "n = 1000000 required 0.05203509 seconds\n"
     ]
    }
   ],
   "source": [
    "import time\n",
    "\n",
    "for n in range(100000,1000001,100000):\n",
    "    start = time.time()\n",
    "    mySum = serialSum(n)\n",
    "    end = time.time()\n",
    "    output = str(\"n = %d required %10.8f seconds\" % (n , end-start))\n",
    "    print (output)\n"
   ]
  },
  {
   "cell_type": "code",
   "execution_count": 44,
   "metadata": {},
   "outputs": [
    {
     "name": "stdout",
     "output_type": "stream",
     "text": [
      "n = 100000 required 0.00400281 seconds\n",
      "n = 200000 required 0.01000738 seconds\n",
      "n = 300000 required 0.01601219 seconds\n",
      "n = 400000 required 0.02102637 seconds\n",
      "n = 500000 required 0.02500463 seconds\n",
      "n = 600000 required 0.02906847 seconds\n",
      "n = 700000 required 0.03302312 seconds\n",
      "n = 800000 required 0.03902745 seconds\n",
      "n = 900000 required 0.04303026 seconds\n",
      "n = 1000000 required 0.04903483 seconds\n"
     ]
    }
   ],
   "source": [
    "import time\n",
    "\n",
    "for n in range(100000,1000001,100000):\n",
    "    start = time.time()\n",
    "    mySum = serialSumRec(n)\n",
    "    end = time.time()\n",
    "    output = str(\"n = %d required %10.8f seconds\" % (n , end-start))\n",
    "    print (output)"
   ]
  },
  {
   "cell_type": "code",
   "execution_count": 47,
   "metadata": {},
   "outputs": [
    {
     "name": "stdout",
     "output_type": "stream",
     "text": [
      "n = 100000 required 0.00000000 seconds\n",
      "n = 200000 required 0.00000000 seconds\n",
      "n = 300000 required 0.00000000 seconds\n",
      "n = 400000 required 0.00000000 seconds\n",
      "n = 500000 required 0.00000000 seconds\n",
      "n = 600000 required 0.00000000 seconds\n",
      "n = 700000 required 0.00000000 seconds\n",
      "n = 800000 required 0.00000000 seconds\n",
      "n = 900000 required 0.00000000 seconds\n",
      "n = 1000000 required 0.00000000 seconds\n"
     ]
    }
   ],
   "source": [
    "import time\n",
    "\n",
    "for n in range(100000,1000001,100000):\n",
    "    start = time.time()\n",
    "    mySum = serialSumClosed(n)\n",
    "    end = time.time()\n",
    "    output = str(\"n = %d required %10.8f seconds\" % (n , end-start))\n",
    "    print (output)"
   ]
  },
  {
   "cell_type": "markdown",
   "metadata": {},
   "source": [
    "ซึ่งผลที่ได้ก็เป็นไปตามการวิเคราะห์ขั้นตอนวิธีคือแบบที่ใช้สูตรคำนวณใช้เวลาน้อยมากๆ ไม่ว่า n จะเป็นเท่าไหร่ ในขณะที่อีก 2 วิธีใช้เวลาเพิ่มขึ้นเรื่อยๆ เมื่อ n เพิ่ม\n",
    "\n",
    "## 2. Big-O\n",
    "การวิเคราะห์ขั้นตอนวิธีนั้นถือว่าสำคัญในการออกแบบโครงสร้างข้อมูล เนื่องจากทุกโครงสร้างข้อมูลต้องมีการเก็บและค้นหาข้อมูล ทั้งสองขั้นตอนจำเป็นต้องออกแบบให้เหมาะสมและดีที่สุดเท่าที่จะทำได้ Big-O จึงมีหน้่าที่ในการอธิบายความดีของโครงสร้างข้อมูล ซึ่ง Big-O เป็นอันดับหรือเป็นขอบเขตของเวลาที่ใช้ในการคำนวน ไม่ได้บอกเป็นจำนวนคำสั่งหรือเวลาแบบตรงๆ แต่จะบอกถึงในกรณีที่แย่ที่สุด\n",
    "\n",
    "เพื่อความเข้าใจจะเริ่มวิเคราะห์จากการบวกเลขแบบอนุกรมก่อน"
   ]
  },
  {
   "cell_type": "code",
   "execution_count": 51,
   "metadata": {
    "collapsed": true
   },
   "outputs": [],
   "source": [
    "def serialSum(n) :\n",
    "    mySum = 0\n",
    "    for i in range(1,n+1):\n",
    "        mySum = mySum + i\n",
    "    return mySum"
   ]
  },
  {
   "cell_type": "markdown",
   "metadata": {},
   "source": [
    "จากฟังก์ชันนี้เรากำหนดให้ $T(n)$ คือจำนวนคำสั่งที่ใช้แก้ปัญหา ดังนั้น $T(n) = 1 + n$ คือจำนวนคำสั่งทั้งหมด แต่อย่างที่ได้อธิบายไปว่า Big-O บอกอันดับ ซึ่งอันดับคือการหยิบพจน์ที่มีอัตราการโตมากที่สุดมาเป็นอันดับ เมื่อเทียบ $1$ กับ $n$ แล้วพบว่า $n$ มีอัตราการโตที่มากกว่าดังนั้น $T(n) = 1 + n$ จึงมีอันดับเป็น $n$ และมี Big-O คือ $O(n)$\n",
    "\n",
    "นอกจากนี้เมื่อเราเลือกอันดับที่มากที่สุดได้แล้ว ค่าสัมประสิทธิ์ที่คูณอยู่ข้างหน้าที่เป็นค่าคงที่จะถูกตัดออกด้วย เช่น  $T(n) = 5n^2 + 27n + 1005$ มีพจน์ที่อันดับมากที่สุดคือ $5n^2$ แต่ตัดค่าสัมประสิทธิ์คือ $5$ ออก เหลือแค่ $n^2$ ดังนั้น Big-O คือ $O(n^2)$\n",
    "\n",
    "เรารู้ได้อย่างไรว่าอันดับหรืออัตราการโตของรูปฟังก์ชันแบบไหนโตมากกว่ากัน ให้ดู [ตารางที่ 1](#table_01)\n",
    "\n",
    "<a name=\"table_01\"></a>\n",
    "\n",
    "| $f(n)$    \t| ชื่อเรียก                      \t|\n",
    "|-----------\t|-----------------------------\t|\n",
    "| $1$       \t| ค่าคงที่ (constant)            \t|\n",
    "| $log(n)$  \t    | ลอการิทึม (logarithmic)       \t|\n",
    "| $n$       \t| เชิงเส้น (linear)             \t|\n",
    "| $nlog(n)$  \t    | ลอกการิทึมเชิงเส้น (log linear) \t|\n",
    "| $n^2$     \t| สมการกำลังสอง (quadratic)    \t|\n",
    "| $n^3$     \t| สมการกำลังสาม (cubic)        \t|\n",
    "| $2^n$     \t| เลขชี้กำลัง (exponential)      \t|\n",
    "\n",
    "เรียงตามลำดับของอันดับจากโตน้อยที่สุดไปยังโตมากที่สุด ซึ่งนิสิตต้องเกิดคำถามแน่นอนว่า โต คืออะไร ขอเริ่มจากความเข้าใจแบบง่ายๆ แต่เกือบจะถูกต้องก่อน คือ การแทนค่า $n$ ใน $f(n)$ ด้วยค่า $1, 2, 3, 4, ...$ เพิ่มไปเรื่อยๆ ดัง [ตารางที่ 2](#table_02)\n",
    "\n",
    "<a name=\"table_02\"></a>\n",
    "\n",
    "| $f(n)$    \t| การแทนค่า                      \t|\n",
    "|-----------\t|-----------------------------\t|\n",
    "| $1$       \t| 1, 1, 1, 1, ...            \t|\n",
    "| $log(n)$  \t| 0, 0.30, 0.48, 0.60, ...       \t|\n",
    "| $n$       \t| 1, 2, 3, 4             \t|\n",
    "| $nlog(n)$  \t| 0, 0.60, 1.44, 2.4, ... \t|\n",
    "| $n^2$     \t| 1, 4, 9, 16, ...    \t|\n",
    "| $n^3$     \t| 1, 8, 27, 64, ...        \t|\n",
    "| $2^n$     \t| 2, 4, 8, 16, ...      \t|\n",
    "\n",
    "จากที่ได้บอกไปข้างต้นว่าการหาคำตอบของ โต ด้วยการแทนค่านั้นเกือบจะถูกต้อง แต่ในกรณี $n^3$ กับ $2^n$ ไม่เป็นเช่นนั้น ซึ่งเหตุผลก็เพราะว่าเวลาเราดูการโตนั้นจะต้องดูกันไปยาวๆ ถึง $n = \\infty$ หรือค่าที่มากๆ เช่น $n = 20, 20^3 = 8000, 2^{20} = 1048576$ หรือมองที่อนุพันธ์ซึ่งจะไม่ขอกล่าวถึง นอกจากนี้เรายังสามารถมองการ โต ได้ด้วยการวาดกราฟใน [รูปที่ 1](#figure_01) (จาก [interactivepython](http://interactivepython.org/runestone/static/pythonds/AlgorithmAnalysis/BigONotation.html))\n",
    "\n",
    "<a name=\"figure_01\"></a> \n",
    "![alt text](/files/imgs/newplot.png \"plot\")\n",
    "\n",
    "## 3. ปัญหาอนาแกรม (anagram detection)\n",
    "เป็นปัญหาการตรวจสอบว่า string 2 ตัวประกอบไปด้วยชุดตัวอักษรเดียวกันหรือไม่ เช่น earth กับ heart ประกอบด้วย e a r t h อย่างละ 1 ตัวเหมือนกันถือว่าเป็นอนาแกรม\n",
    "\n",
    "### 3.1 ตรวจสอบทุกคู่\n",
    "สมมติว่ามี string 2 ตัวคือ s1 กับ s2 วิธีการคือ หยิบ s1[pos1] โดย pos1 มีค่าตั้งแต่ 0 ถึง len(s1)-1 เปรียบเทียบกับ s2[pos2] โดย pos2 มีค่าตั้งแต่ 0 ถึง len(s2)-1 หากเจอ s1[pos1] ที่ดัชนี pos2 ให้กำหนด s2[pos2] เป็น None เพื่อเป็นการบอกว่า s2[pos2] มีคู่ที่ตรงกันแล้ว แต่หากไม่เจอก็สามารถตอบได้เลยว่าไม่เป็นอนาแกรม\n",
    "\n",
    "นิสิตจะเห็นได้ว่ามีวงวนอยู่ 2 วงวนสำหรับ s1 และ s2 ซึ่งเป็นวงวนแบบซ้อนกันเนื่องจากทุกตัวใน s1 จะต้องถูกวนเชคกับตัวที่เหลือใน s2 ดังรหัส"
   ]
  },
  {
   "cell_type": "code",
   "execution_count": 2,
   "metadata": {},
   "outputs": [
    {
     "name": "stdout",
     "output_type": "stream",
     "text": [
      "True\n"
     ]
    }
   ],
   "source": [
    "def anagramSolution1(s1,s2):\n",
    "    alist = list(s2)\n",
    "\n",
    "    pos1 = 0\n",
    "    stillOK = True\n",
    "\n",
    "    while pos1 < len(s1) and stillOK:\n",
    "        pos2 = 0\n",
    "        found = False\n",
    "        while pos2 < len(alist) and not found:\n",
    "            if s1[pos1] == alist[pos2]:\n",
    "                found = True\n",
    "            else:\n",
    "                pos2 = pos2 + 1\n",
    "\n",
    "        if found:\n",
    "            alist[pos2] = None\n",
    "        else:\n",
    "            stillOK = False\n",
    "\n",
    "        pos1 = pos1 + 1\n",
    "\n",
    "    return stillOK\n",
    "\n",
    "print(anagramSolution1('abcd','dcba'))"
   ]
  },
  {
   "cell_type": "code",
   "execution_count": 1,
   "metadata": {},
   "outputs": [
    {
     "data": {
      "text/html": [
       "\n",
       "        <iframe\n",
       "            width=\"1050\"\n",
       "            height=\"512\"\n",
       "            src=\"http://pythontutor.com/iframe-embed.html#code=def%20anagramSolution1%28s1,s2%29%3A%0A%20%20%20%20alist%20%3D%20list%28s2%29%0A%0A%20%20%20%20pos1%20%3D%200%0A%20%20%20%20stillOK%20%3D%20True%0A%0A%20%20%20%20while%20pos1%20%3C%20len%28s1%29%20and%20stillOK%3A%0A%20%20%20%20%20%20%20%20pos2%20%3D%200%0A%20%20%20%20%20%20%20%20found%20%3D%20False%0A%20%20%20%20%20%20%20%20while%20pos2%20%3C%20len%28alist%29%20and%20not%20found%3A%0A%20%20%20%20%20%20%20%20%20%20%20%20if%20s1%5Bpos1%5D%20%3D%3D%20alist%5Bpos2%5D%3A%0A%20%20%20%20%20%20%20%20%20%20%20%20%20%20%20%20found%20%3D%20True%0A%20%20%20%20%20%20%20%20%20%20%20%20else%3A%0A%20%20%20%20%20%20%20%20%20%20%20%20%20%20%20%20pos2%20%3D%20pos2%20%2B%201%0A%0A%20%20%20%20%20%20%20%20if%20found%3A%0A%20%20%20%20%20%20%20%20%20%20%20%20alist%5Bpos2%5D%20%3D%20None%0A%20%20%20%20%20%20%20%20else%3A%0A%20%20%20%20%20%20%20%20%20%20%20%20stillOK%20%3D%20False%0A%0A%20%20%20%20%20%20%20%20pos1%20%3D%20pos1%20%2B%201%0A%0A%20%20%20%20return%20stillOK%0A%0Aprint%28anagramSolution1%28'abcd','dcba'%29%29&codeDivHeight=400&codeDivWidth=350&cumulative=false&curInstr=0&heapPrimitives=false&origin=opt-frontend.js&py=3&rawInputLstJSON=%5B%5D&textReferences=false\"\n",
       "            frameborder=\"0\"\n",
       "            allowfullscreen\n",
       "        ></iframe>\n",
       "        "
      ],
      "text/plain": [
       "<IPython.lib.display.IFrame at 0x278493a32b0>"
      ]
     },
     "execution_count": 1,
     "metadata": {},
     "output_type": "execute_result"
    }
   ],
   "source": [
    "from IPython.display import IFrame\n",
    "url = \"http://pythontutor.com/iframe-embed.html#code=def%20anagramSolution1%28s1,s2%29%3A%0A%20%20%20%20alist%20%3D%20list%28s2%29%0A%0A%20%20%20%20pos1%20%3D%200%0A%20%20%20%20stillOK%20%3D%20True%0A%0A%20%20%20%20while%20pos1%20%3C%20len%28s1%29%20and%20stillOK%3A%0A%20%20%20%20%20%20%20%20pos2%20%3D%200%0A%20%20%20%20%20%20%20%20found%20%3D%20False%0A%20%20%20%20%20%20%20%20while%20pos2%20%3C%20len%28alist%29%20and%20not%20found%3A%0A%20%20%20%20%20%20%20%20%20%20%20%20if%20s1%5Bpos1%5D%20%3D%3D%20alist%5Bpos2%5D%3A%0A%20%20%20%20%20%20%20%20%20%20%20%20%20%20%20%20found%20%3D%20True%0A%20%20%20%20%20%20%20%20%20%20%20%20else%3A%0A%20%20%20%20%20%20%20%20%20%20%20%20%20%20%20%20pos2%20%3D%20pos2%20%2B%201%0A%0A%20%20%20%20%20%20%20%20if%20found%3A%0A%20%20%20%20%20%20%20%20%20%20%20%20alist%5Bpos2%5D%20%3D%20None%0A%20%20%20%20%20%20%20%20else%3A%0A%20%20%20%20%20%20%20%20%20%20%20%20stillOK%20%3D%20False%0A%0A%20%20%20%20%20%20%20%20pos1%20%3D%20pos1%20%2B%201%0A%0A%20%20%20%20return%20stillOK%0A%0Aprint%28anagramSolution1%28'abcd','dcba'%29%29&codeDivHeight=400&codeDivWidth=350&cumulative=false&curInstr=0&heapPrimitives=false&origin=opt-frontend.js&py=3&rawInputLstJSON=%5B%5D&textReferences=false\"\n",
    "IFrame(url, width=1050, height=512)"
   ]
  },
  {
   "cell_type": "markdown",
   "metadata": {
    "collapsed": true
   },
   "source": [
    "ทีนี้ลองมาดูการวิเคราะห์บ้าง จะเห็นได้ว่าทุกๆตัวอักษรใน s1 จะต้องนำมาเปรียบเทียบกับทุกๆตัวอักษรใน s2 ต่อให้เป็น None ก็จะแค่ข้ามไปตัวถัดไป ดังนั้นสมมติ s1 ยาว $n$ และ s2 ยาว $m$ จำนวนการเปรียบเทียบทั้งหมดคือ $nm$ แต่ลองนึกให้ดีๆ ถ้าขนาดไม่เท่ากันคือ $n \\neq m$ เราสามารถตอบได้เลยว่าไม่เป็นอนาแกรมในกรณีนี้คือโชคดีที่สุดหรือดีที่สุดซึ่งไม่ใช่ Big-O จากที่เคยกล่าวไว้ข้างต้นว่าเราสนใจในกรณีที่แย่ที่สุดเพื่อคำนวณ Big-O ดังนั้นกรณีที่แย่ที่สุดคือ $n = m$ ดังนั้นจำนวนการเปรียบเทียบทั้งหมดคือ $T(n) = n^2$ ก็คือ $O(n^2)$\n",
    "\n",
    "#### คำถาม\n",
    "หากเปลี่ยนการกำหนด s2 ที่ตำแหน่ง pos2 เป็น None ให้เป็นการลบออกไปเลยแทน จำนวนการเปรียบเทียบทั้งหมดจะเป็นเท่าไร และ Big-O เป็นเท่าไร"
   ]
  },
  {
   "cell_type": "code",
   "execution_count": 3,
   "metadata": {
    "collapsed": true
   },
   "outputs": [],
   "source": [
    "# try here"
   ]
  },
  {
   "cell_type": "markdown",
   "metadata": {},
   "source": [
    "คำตอบ"
   ]
  },
  {
   "cell_type": "markdown",
   "metadata": {},
   "source": [
    "### 3.2 เรียงลำดับก่อนแล้วจึงเปรียบเทียบ\n",
    "วิธีนี้ค่อนข้างตรงไปตรงมา คือ เรียงลำดับตัวอักษรใน s1 และ s2 แล้วไล่ดัชนีการเปรียบเทียบตัวอักษรใน s1 และ s2 ที่ถูกเรียงแล้วเป็นคู่ๆ  ยกตัวอย่างเช่น เราอยากตรวจสอบ goodguy กับ doogyug ให้เรียงลำดับตัวอักษรก่อน ซึ่งได้เป็น dggooyu กับ dggooyu แล้วจึงนำผลที่ได้มาเปรียบเทียบเป็นคู่ๆ ตั้งแต่ (d, d), (g, g), ..., (u,u) หากตรงกันหมดแสดงว่าเป็นอนาแกรมแต่หากไม่ตรงกันถือว่าไม่เป็น เช่น hello กับ helly เรียงได้เป็น ehllo กับ ehlly เปรียบเทียบเป็นคู่ๆ แล้วพบว่าคู่สุดท้ายคือ (o,y) ทำให้ไม่เป็น anagram\n",
    "\n",
    "การวิเคราะห์ในกรณีนี้ค่อนข้างใช้ประสบการณ์พอสมควร แต่นิสิตบางคนอาจจะรู้แล้วว่าการเรียงลำดับมีหลายวิธี (ซึ่งจะเรียนกันในวิชานี้แต่ไม่ใช่ตอนนี้) วิธีที่ดีที่สุดใช้เวลา $T (n) = nlog(n)$ การเปรียบเทียบเป็นคู่ๆ ใช้ $T(n) = n$ เวลารวมคือ $T(n) = nlog(n) + n$ ซึ่ง Big-O จะหยิบพจน์ที่มีอันดับมากที่สุดคือ $nlog(n)$ ดังนั้นวิธีนี้ใช้ $O(nlog(n)$\n",
    "\n",
    "#### คำถาม\n",
    "จงเขียนโปรแกรมตรวจสอบอนาแกรมโดยใช้ sort ของ python"
   ]
  },
  {
   "cell_type": "code",
   "execution_count": 4,
   "metadata": {
    "collapsed": true
   },
   "outputs": [],
   "source": [
    "# try here"
   ]
  },
  {
   "cell_type": "markdown",
   "metadata": {},
   "source": [
    "### 3.3 เปรียบเทียบโดยใช้ตารางของตัวอักษร \n",
    "หลักการง่ายๆ คือ ทำตารางสำหรับตัวอักษร a-z เพื่อเก็บจำนวนแต่ละตัวอักษรที่ปรากฎในแต่ละ string เราจะได้ 2 ตารางสำหรับแต่ละ string แล้วนำตารางนั้นมาเปรียบเทียบกัน เช่น\n",
    "\n",
    "hello\n",
    "\n",
    "|a|b|c|d|e|f|g|h|i|j|k|l|m|n|o|p|q|r|s|t|u|v|w|x|y|z|\n",
    "|-|-|-|-|-|-|-|-|-|-|-|-|-|-|-|-|-|-|-|-|-|-|-|-|-|-|\n",
    "|0|0|0|0|1|0|0|1|0|0|0|2|0|0|1|0|0|0|0|0|0|0|0|0|0|0|\n",
    "\n",
    "helly\n",
    "\n",
    "|a|b|c|d|e|f|g|h|i|j|k|l|m|n|o|p|q|r|s|t|u|v|w|x|y|z|\n",
    "|-|-|-|-|-|-|-|-|-|-|-|-|-|-|-|-|-|-|-|-|-|-|-|-|-|-|\n",
    "|0|0|0|0|1|0|0|1|0|0|0|2|0|0|0|0|0|0|0|0|0|0|0|0|1|0|\n",
    "\n",
    "การวิเคราะห์เริ่มจากการสร้างตารางขนาด 26 จำนวน 2 ตาราง $T(n) = 2 \\times 26 = 52$ แต่ละตัวอักษรถูกนับเพื่อเพิ่มค่าในตาราง $T(n) = 2n$ ที่ต้องคูณ 2 เนื่องจากต้องทำทุกตัวอักษรของ string ทั้ง 2 จากนั้นทำการเปรียบเทียบ $T(n) = 26$ เมื่อรวมทุกกระบวนการแล้วได้ $T(n) = 52 + 2n + 26$ หยิบพจน์ที่อันดับมากที่สุดแล้วตัดค่าสัมประสิทธิ์ออกได้เป็น $O(n)$\n",
    " \n",
    "#### คำถาม\n",
    "จงเขียนโปรแกรมตรวจสอบอนาแกรมโดยใช้ตารางของตัวอักษร"
   ]
  },
  {
   "cell_type": "code",
   "execution_count": null,
   "metadata": {
    "collapsed": true
   },
   "outputs": [],
   "source": [
    "# try here"
   ]
  }
 ],
 "metadata": {
  "kernelspec": {
   "display_name": "Python 3",
   "language": "python",
   "name": "python3"
  },
  "language_info": {
   "codemirror_mode": {
    "name": "ipython",
    "version": 3
   },
   "file_extension": ".py",
   "mimetype": "text/x-python",
   "name": "python",
   "nbconvert_exporter": "python",
   "pygments_lexer": "ipython3",
   "version": "3.6.3"
  }
 },
 "nbformat": 4,
 "nbformat_minor": 2
}
