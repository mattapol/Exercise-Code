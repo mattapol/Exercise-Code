{
 "cells": [
  {
   "cell_type": "markdown",
   "metadata": {},
   "source": [
    "# พื้นฐาน python\n",
    "จากบทที่แล้วเราเกริ่นกันมาถึง ADT แต่ก่อนที่จะเริ่มสร้าง ADT อย่างง่าย นิสิตจำเป็นต้องมีความรู้ความเข้าใจเกี่ยวกับเครื่องมือหลักก่อน ในวิชานี้จะใช้ภาษา python รุ่น 3 ในการสร้างและใช้งานโครงสร้างข้อมูล สาเหตุที่เลือกใช้ python ก็เพราะว่าเป็นภาษาที่ทันสมัย เรียนรู้ง่าย เข้าใจง่าย และรองรับการเขียนโปรแกรมเชิงวัตถุ (object-oriented programming) นอกจากนี้ยังมีโครงสร้างข้อมูลแบบอื่นๆ ที่มาพร้อมกับตัวภาษาเองให้เรียกใช้ได้ง่ายๆ อีกด้วย \n",
    "\n",
    "## จุดประสงค์\n",
    "* เพื่อให้เข้าใจถึงรูปแบบข้อมูลของ python\n",
    "* เพื่อให้เข้าใจถึงการรับข้อมูลและการแสดงผลลัพธ์ของ python\n",
    "\n",
    "ลองมาดูรหัสด้านล่าง"
   ]
  },
  {
   "cell_type": "code",
   "execution_count": 13,
   "metadata": {},
   "outputs": [
    {
     "name": "stdout",
     "output_type": "stream",
     "text": [
      "Hello World\n"
     ]
    }
   ],
   "source": [
    "print(\"Hello World\")"
   ]
  },
  {
   "cell_type": "markdown",
   "metadata": {},
   "source": [
    "print เป็น ฟังก์ชันที่ใช้แสดงผลออกทางหน้าจอ ซึ่งเราจะเห็นได้ว่าด้วยความสามารถของ python ทำให้เราพิมพ์ออกหน้าจอได้ง่ายมากๆ ด้วยรหัสเพียงบรรทัดเดียว หากเปรียบเทียบกับ java แล้วนิสิตต้องเขียนรหัสหลายบรรทัดเพื่อจะให้ได้ผลลัพธ์แบบเดียวกัน\n",
    "\n",
    "แต่เนื่องด้วยวิชานี้เป็นวิชาโครงสร้างข้อมูล ไม่ใช่วิชาพื้นฐานการเขียนโปรแกรม ดังนั้นจึงจะปูพื้นฐาน python ให้ในส่วนทีจำเป็นเท่านั้น นิสิตสามารถเริ่มจากการเข้าไปดูที่ [Python Tutorial ฉบับภาษาอังกฤษ](http://docs.python.org/3/tutorial/index.html) [ฉบับภาษาไทย](https://python3.wannaphong.com/%E0%B8%AA%E0%B8%B2%E0%B8%A3%E0%B8%9A%E0%B8%B1%E0%B8%8D/%E0%B8%AA%E0%B8%B3%E0%B8%AB%E0%B8%A3%E0%B8%B1%E0%B8%9A%E0%B8%9C%E0%B8%B9%E0%B9%89%E0%B9%80%E0%B8%A3%E0%B8%B4%E0%B9%88%E0%B8%A1%E0%B8%95%E0%B9%89%E0%B8%99%E0%B8%A0%E0%B8%B2%E0%B8%A9%E0%B8%B2python) หรือ [วิดีทัศน์](https://www.youtube.com/playlist?list=PL0ROnaCzUGB4ieaQndKybT9xyoq2n9NGq)\n",
    "\n",
    "##  1. รูปแบบข้อมูล\n",
    "\n",
    "### 1.1 รูปแบบข้อมูลพื้นฐาน\n",
    "python นั้นจะประกอบด้วยรูปแบบข้อมูลพื้นฐานเชิงตัวเลข 2 ประเภทหลักๆ คือ int และ float กับเชิงตรรกะ (boolean) ซึ่งข้อมูลเหล่านี้จะมีตัวดำเนินการที่ควบคู่มาด้วย แบ่งเป็น 2 ประเภทดังนี้\n",
    "\n",
    "#### 1.1.1 ตัวดำเนินการเชิงคำนวณ (arithmetic operator)\n",
    "จะเกี่ยวข้องกับ +, -, \\*, / ซึ่งได้กล่าวไว้แล้วใน [01-Introduction](/notebooks/01-Introduction.ipynb)\n",
    "\n",
    "#### 1.1.2 ตัวดำเนินการเชิงตรรกะ (logical operator)\n",
    "รูปแบบข้อมูลที่มีความเกี่ยวข้องโดยตรงกับตัวดำเนินการเชิงตรรกะคือ boolean ประกอบด้วยค่า จริง กับ เท็จ (True กับ False) สำหรับ python แต่สำหรับภาษาอื่น เช่น c เพียวๆ จะใช้เลข 0 แทน เท็จ และ 1 หรือเลขอื่นๆ ที่ไม่เท่ากับ 0 แทน จริง การใช้งานตัวดำเนินการเชิงตรรกะไม่ได้ต่างจากภาษาอื่น ขอสรุปไว้เป็นตารางง่ายๆ ดัง [ตารางที่ 1](#table_01)\n",
    "\n",
    "<a name=\"table_01\"></a> \n",
    "\n",
    "| ชื่อตัวดำเนินการ      | ตัวดำเนินการ | คำอธิบาย                                                                                                             |\n",
    "|-------------------|------------|---------------------------------------------------------------------------------------------------------------------|\n",
    "| น้อยกว่า            |    <       |    x < y เป็นการเปรียบเทียบว่า   x น้อยกว่า y หรือไม่                                                                       |\n",
    "|    มากกว่า         |    >       |    x > y เป็นการเปรียบเทียบว่า   x มากกว่า y หรือไม่                                                                       |\n",
    "|    น้อยกว่าเท่ากับ    |    <=      |    x <= y เป็นการเปรียบเทียบว่า   x น้อยกว่าหรือเท่ากับ   y หรือไม่                                                            |\n",
    "|    มากกว่าเท่ากับ    |    >=      |    x >= y เป็นการเปรียบเทียบว่า   x มากกว่าหรือเท่ากับ   y หรือไม่                                                            |\n",
    "|    เท่ากับ          |    ==      |    x == y เป็นการเปรียบเทียบว่า   x เท่ากับ y หรือไม่                                                                       |\n",
    "|    ไม่เท่ากับ        |    !=      |    x != y เป็นการเปรียบเทียบว่า   x ไม่เท่ากับ   y หรือไม่                                                                   |\n",
    "|    และ            |    and     |    x and y เป็นการเอาค่า   boolean x มา และ   กับ y ซึ่งจะเป็น   True เมื่อ x กับ y เป็น True ทั้งคู่ กรณีอื่นจะเป็น   False หมด      |\n",
    "|    หรือ            |    or      |    x or y เป็นการเอาค่า   boolean x มา หรือ   กับ y ซึ่งจะเป็น   False เมื่อ x กับ y เป็น False ทั้งคู่   กรณีอื่นจะเป็น True   หมด    |\n",
    "|    นิเสธ           |    not     |    not x เป็นการกลับค่า   x จาก True เป็น False หรือจาก False เป็น True                                                   |\n",
    "ลองมาดูตัวอย่างกันบ้างว่า boolean และตัวดำเนินการเชิงตรรกะทำงานอย่างไร"
   ]
  },
  {
   "cell_type": "code",
   "execution_count": 14,
   "metadata": {},
   "outputs": [
    {
     "data": {
      "text/plain": [
       "True"
      ]
     },
     "execution_count": 14,
     "metadata": {},
     "output_type": "execute_result"
    }
   ],
   "source": [
    "True"
   ]
  },
  {
   "cell_type": "code",
   "execution_count": 15,
   "metadata": {},
   "outputs": [
    {
     "data": {
      "text/plain": [
       "False"
      ]
     },
     "execution_count": 15,
     "metadata": {},
     "output_type": "execute_result"
    }
   ],
   "source": [
    "False"
   ]
  },
  {
   "cell_type": "code",
   "execution_count": 16,
   "metadata": {},
   "outputs": [
    {
     "name": "stdout",
     "output_type": "stream",
     "text": [
      "True\n",
      "False\n",
      "False\n",
      "True\n"
     ]
    }
   ],
   "source": [
    "print(True)\n",
    "print(True and False)\n",
    "print(not True)\n",
    "print(not (False or False))"
   ]
  },
  {
   "cell_type": "markdown",
   "metadata": {},
   "source": [
    "ตัวอย่างข้างต้นแสดงให้เห็นว่า คำว่า True ก็คือ boolean True และ คำว่า False ก็คือ boolean False แต่อย่าลืมว่าถ้าเราไปใช้บนระบบ grader เราจะต้อง print ออกมาแสดงผลหากโจทย์ต้องการให้แสดง ซึ่งแสดงให้ดูว่า print(True) ก็จะได้ผลออกมาเป็นค่า boolean True แต่ไม่ใช่ print(\"True\") อย่าเข้าใจผิดเด็ดขาด และในตัวอย่างอื่นๆ ที่เหลือแสดงให้เห็นว่าเราสามารถใช้ตัวดำเนินการเชิงตรรกะเพื่อให้ได้ผลลัพธ์เป็น boolean แล้วแสดงผลออกมา เช่น True and False ได้ผลเป็น False สั่ง print ก็จะออกมาเป็น False ตัวอย่างอื่นๆ ก็ไม่ต่างกัน แต่ทีนี้นิสิตอาจจะเกิดคำถามว่าแล้ว x กับ y ที่พูดในตารางคืออะไร ก็จะยกตัวอย่างให้เห็นง่ายๆ "
   ]
  },
  {
   "cell_type": "code",
   "execution_count": 17,
   "metadata": {},
   "outputs": [
    {
     "name": "stdout",
     "output_type": "stream",
     "text": [
      "False\n"
     ]
    }
   ],
   "source": [
    "x = True\n",
    "y = False\n",
    "z = x and y\n",
    "print(z)"
   ]
  },
  {
   "cell_type": "markdown",
   "metadata": {},
   "source": [
    "ตัวอย่างนี้แสดงเป็นขั้นเป็นตอนเลยว่า\n",
    "1. เรากำหนด x ให้เป็น True\n",
    "2. เรากำหนด y ให้เป็น False\n",
    "3. เราเอา x มา และ กับ y ได้ค่าอะไร (False) ก็นำมาเก็บเข้า z\n",
    "4. แสดงผลลัพธ์ z ออกทางหน้าจอ\n",
    "\n",
    "ซึ่งการทำงานจะเหมือนกับ print(True and False) ต่างกันแค่ใช้ตัวแปร (variable) กับไม่ใช้ตัวแปรแค่นั้นเอง\n",
    "\n",
    "#### คำถาม\n",
    "จากตัวอย่างนี้ให้นิสิตลองทำการแปลง<br />\n",
    "print(True)<br />\n",
    "print(not True)<br />\n",
    "print(not (False or False))<br />\n",
    "ให้อยู่ในรูปตัวแปรเพื่อจะได้เข้าใจการใช้ตัวแปรอย่างง่ายๆ\n",
    "\n",
    "ลองดูตัวอย่างที่เป็นการเปรียบเทียบบ้าง\n"
   ]
  },
  {
   "cell_type": "code",
   "execution_count": 18,
   "metadata": {
    "collapsed": true
   },
   "outputs": [],
   "source": [
    "# try here"
   ]
  },
  {
   "cell_type": "code",
   "execution_count": 19,
   "metadata": {},
   "outputs": [
    {
     "name": "stdout",
     "output_type": "stream",
     "text": [
      "False\n",
      "True\n",
      "True\n"
     ]
    }
   ],
   "source": [
    "print(5==10)\n",
    "print(10 > 5)\n",
    "print((5 >= 1) and (5 <= 10))"
   ]
  },
  {
   "cell_type": "markdown",
   "metadata": {},
   "source": [
    "เหมือนเดิมว่าจะยกตัวอย่างแบบที่ใช้ตัวแปรให้ดู"
   ]
  },
  {
   "cell_type": "code",
   "execution_count": 20,
   "metadata": {},
   "outputs": [
    {
     "name": "stdout",
     "output_type": "stream",
     "text": [
      "False\n"
     ]
    }
   ],
   "source": [
    "x = 5\n",
    "y = 10\n",
    "z = (5 == 10)\n",
    "print(z)"
   ]
  },
  {
   "cell_type": "markdown",
   "metadata": {
    "collapsed": true
   },
   "source": [
    "บรรทัดที่น่าจะทำให้สับสนคือ z = (5 == 10) การทำงานเป็นดังนี้คือจะทำการเปรียบเทียบ 5 == 10 ก่อนซึ่งได้ False แล้วกำหนดค่า False ให้กับ z\n",
    "\n",
    "#### คำถาม\n",
    "จากตัวอย่างนี้ให้นิสิตลองทำการแปลง<br />\n",
    "print(10 > 5)<br />\n",
    "print((5 >= 1) and (5 <= 10)))<br />\n",
    "ให้อยู่ในรูปตัวแปร"
   ]
  },
  {
   "cell_type": "code",
   "execution_count": 21,
   "metadata": {
    "collapsed": true
   },
   "outputs": [],
   "source": [
    "# try here"
   ]
  },
  {
   "cell_type": "markdown",
   "metadata": {},
   "source": [
    "#### คำถาม\n",
    "จากตัวอย่างการใช้ตัวดำเนินการเชิงตรรกะ นิสิตเกิดคำถามอะไรบ้าง\n",
    "\n",
    "เราน่าจะได้คำถามประมาณว่า\n",
    "1. ประกาศชนิดของตัวแปรตรงไหน\n",
    "2. การเปรียบเทียบเอาตัวแปรมาผสมกับตัวเลขได้หรือไม่\n",
    "\n",
    "คำตอบก็คือ\n",
    "1. python ไม่จำเป็นต้องประกาศชนิดของตัวแปร แต่ตอนนำไปใช้ก็ต้องระวังด้วยว่าใช้ถูกชนิด\n",
    "2. ทำได้เหมือนภาษาอื่นๆ \n",
    "\n",
    "คำถามและคำตอบข้อ 1 จึงได้โยงไปสู่การกำหนดตัวแปรแบบอ้างอิงตัวของ python โดยลองดูตัวอย่างก่อน"
   ]
  },
  {
   "cell_type": "code",
   "execution_count": 22,
   "metadata": {},
   "outputs": [
    {
     "name": "stdout",
     "output_type": "stream",
     "text": [
      "0\n",
      "1\n",
      "True\n",
      "Hello\n"
     ]
    }
   ],
   "source": [
    "a = 0\n",
    "print(a)\n",
    "a = a + 1\n",
    "print(a)\n",
    "a = True\n",
    "print(a)\n",
    "a = \"Hello\"\n",
    "print(a)"
   ]
  },
  {
   "cell_type": "markdown",
   "metadata": {},
   "source": [
    "### 1.2 การกำหนดตัวแปรแบบอ้างอิง\n",
    "ใน python นั้นการกำหนดตัวแปรจะเป็นแบบอ้างอิงทั้งหมด เหมือนเรามีชื่อตัวแปรกับลูกศรที่ใช้ชี้ตำแหน่งว่าชื่อตัวแปรนั้นจะชี้ไปยังก้อนข้อมูลตัวใด\n",
    "\n",
    "<a name=\"figure_01\"></a> \n",
    "![alt text](/files/imgs/ref_assign.jpg \"assign by reference\")\n",
    "\n",
    "จากรหัสและ [รูปที่ 1](#figure_01)\n",
    " เราเริ่มต้นที่ a = 0 สิ่งที่เกิดขึ้นในหน่วยความจำคือ มีก้อนข้อมูล 0 โดยใช้ a เป็นตัวอ้างอิงถึงก้อนข้อมูลนั้น หลังจากนั้นให้ a = a + 1 ซึ่งก้อนข้อมูล 0 จะถูกอ้างอิงแล้วบวกเพิ่มไป 1 แล้วใช้ตัวอ้างอิงตัวเดิมคือ a ทำให้ a ชี้ไปยังก้อนข้อมูลที่เก็บค่า 1 หลังจากนั้นทำการกำหนดค่า a = True ซึ่ง True จะถูกสร้างมาเป็นก้อนข้อมูลใหม่แล้วนำ a มาชี้ที่ก้อนข้อมูลของ True แทน เช่นเดียวกับ a = \"Hello\"\n",
    "\n",
    "ด้วยการอ้างถึงข้อมูลแบบอ้างอิงนี้ทำให้ตัวแปร a มีอิสระในการที่จะอ้างอิงข้อมูลชนิดใดก็ได้โดยไม่จำเป็นต้องประกาศเป็นชนิดใดชนิดหนึ่งโดยเฉพาะ\n",
    "\n",
    "### 1.3 รูปแบบโครงสร้างข้อมูล\n",
    "นอกจากจะมีรูปแบบข้อมูลพื้นฐานแล้ว python ยังมีโครงสร้างข้อมูลแบบง่ายๆ ให้ใช้ได้อีกด้วย เช่น รายการ (list) สายอักขระ (string) เซต (set) หรือ พจนานุกรม (dictionary)\n",
    "\n",
    "#### 1.3.1 รายการ (list)\n",
    "list เป็นโครงสร้างข้อมูลที่จะเก็บลำดับของตัวอ้างอิง แต่เพื่อให้ง่ายต่อความเข้าใจให้มองเป็นลำดับของข้อมูลแทน การสร้าง list ทำง่ายๆ ได้ด้วยการกำหนดค่าของตัวแปรด้วยเครื่องหมาย [ ] และด้วยความพิเศษของการกำหนดตัวแปรแบบอ้างอิงทำให้ข้อมูลใน list ไม่จำเป็นต้องเป็นข้อมูลชนิดเดียวกัน\n",
    "\n",
    "ตัวอย่าง\n"
   ]
  },
  {
   "cell_type": "code",
   "execution_count": 23,
   "metadata": {},
   "outputs": [
    {
     "name": "stdout",
     "output_type": "stream",
     "text": [
      "[]\n",
      "[1, 3, True, 6.5]\n"
     ]
    }
   ],
   "source": [
    "myList = []\n",
    "print(myList)\n",
    "myList = [1, 3, True, 6.5]\n",
    "print(myList)"
   ]
  },
  {
   "cell_type": "markdown",
   "metadata": {},
   "source": [
    "บรรทัด myList = [] หมายถึงสร้าง list ว่างๆ ส่วน myList = [1, 3, True, 6.5] หมายถึงการสร้าง list ที่มีข้อมูล 4 ตัวคั่นด้วย , \n",
    "\n",
    "ในขณะนี้ให้นิสิตมองตัวเองเป็นผู้ใช้โดยที่ python เป็นคนจัดหาโครงสร้างข้อมูลมาให้ เมื่อย้อนกลับไปถึงเรื่อง ADT เราจึงสนใจแค่ว่า list มีตัวดำเนินการใดให้เราใช้ได้บ้าง สรุปได้เป็น [ตารางที่ 2](#table_02) ด้านล่างนี้\n",
    "\n",
    "<a name=\"table_02\"></a> \n",
    "\n",
    "|  ชื่อตัวดำเนินการ    |     ตัวดำเนินการ     |     คำอธิบาย                              |\n",
    "|-----------------|------------------|----------------------------------------------|\n",
    "| ดัชนี             | [ ]              | เข้าถึงข้อมูลด้วยดัชนีที่อยู่ใน [ ]                     |\n",
    "| การต่อ           | +                | การต่อ list 2 ตัวเข้าด้วยกัน                      |\n",
    "| การซ้ำ           | *                | การต่อ list ด้วยการซ้ำสมาชิกของตัวเอง             |\n",
    "| การเป็นสมาชิก     | in               | x in list การถามว่า x เป็นสมาชิกใน list หรือไม่   |\n",
    "| ความยาว         | len              | จำนวนข้อมูลใน list                             |\n",
    "| การแบ่งส่วน       | [ : ]            | [i:j] การดึงมาเฉพาะข้อมูลตัวที่ i ถึง j-1           |\n",
    "\n",
    "ตัวอย่าง"
   ]
  },
  {
   "cell_type": "code",
   "execution_count": 15,
   "metadata": {},
   "outputs": [
    {
     "name": "stdout",
     "output_type": "stream",
     "text": [
      "0\n",
      "[10, 1, 2, 3, 4, 5]\n",
      "[10, 1, 2, 3, 4, 5, 10, 1, 2, 3, 4, 5, 10, 1, 2, 3, 4, 5]\n",
      "18\n",
      "[2, 3, 4]\n",
      "[1, 2, 3, 4]\n",
      "[1, 3]\n",
      "True\n",
      "[4, 4, 4]\n",
      "True\n"
     ]
    }
   ],
   "source": [
    "myList = [0,1,2,3,4,5]\n",
    "print(myList[0])\n",
    "myList[0] = 10\n",
    "print(myList)\n",
    "A = myList*3\n",
    "print(A)\n",
    "print(len(A))\n",
    "print(A[2:5])\n",
    "print(A[1:5:1])\n",
    "print(A[1:5:2])\n",
    "print(4 in A)\n",
    "B = [4] * 3\n",
    "print(B)\n",
    "print(4 in B)"
   ]
  },
  {
   "cell_type": "markdown",
   "metadata": {},
   "source": [
    "การประกาศและการเข้าถึงด้วยดัชนี (index) น่าจะเป็นสิ่งที่นิสิตคุ้นเคยอยู่แล้ว ซึ่ง python จะเหมือน c กับ java ที่ index เริ่มที่ 0 แต่ที่แปลกตาคือ A = myList\\*3 ซึ่งจะทำการซ้ำ myList ไป 3 รอบ ได้ผลลัพธ์อะไรส่งต่อให้กับ A สิ่งที่ได้คือ list ที่มีสมาชิกของ myList ต่อกันไป 3 ชุด อีกหนึ่งตัวดำเนินการที่น่าสนใจคือ 4 in A จะทำการตรวจสอบว่ามี 4 อยู่ใน A หรือไม่ ซึ่งคำตอบคือ True เพราะมีอยู่\n",
    "\n",
    "#### คำถาม\n",
    "ตัวดำเนินการ [:] และ [::] มีการใช้งานอย่างไร (ให้ลองค้นหาด้วย python list slicing)\n",
    "\n",
    "#### คำถาม\n",
    "ให้นิสิตลองนึกว่า ถ้า [1,2,3,4] \\* 2 ได้ผลลัพธ์เป็น [1,2,3,4,1,2,3,4] แล้ว [[1,2,3,4]] \\* 2 จะได้ผลลัพธ์เป็นอะไร\n"
   ]
  },
  {
   "cell_type": "code",
   "execution_count": null,
   "metadata": {
    "collapsed": true
   },
   "outputs": [],
   "source": [
    "# try here"
   ]
  },
  {
   "cell_type": "markdown",
   "metadata": {},
   "source": [
    "คำตอบคือ\n",
    "\n",
    "ลองคิดเป็นขั้นเป็นตอนแบบใช้หลักการและเหตุผลดู ถ้า [1,2,3,4] \\* 2 ได้ output เป็น [1,2,3,4,1,2,3,4] เหมือนเราแกะเปลือก [ ] ออก ไส้ในจะเหลือ 1,2,3,4 แล้วก็สำเนามาอีก 1 ชุดเพื่อมาต่อท้ายได้เป็น 1,2,3,4,1,2,3,4 แล้วจึงใส่เปลือก [ ] กลับเข้าไป <br />\n",
    "ดังนั้นถ้าเป็น [[1,2,3,4]] \\* 2 เราก็ทำแบบเดียวกันคือแกะเปลือก [ ] ออก ไส้ในจะเหลือ [1,2,3,4] ทำสำเนามาอีก 1 ชุดเพื่อต่อท้ายได้เป็น [1,2,3,4],[1,2,3,4] แล้วใส่เปลือก [ ] กลับเข้าไปได้เป็น [[1,2,3,4],[1,2,3,4]] ซึ่งคือ list ซ้อน list อีกชั้นหนึ่ง หรือจะมองกันแบบง่ายๆ ก็คือ อาร์เรย์ (array) 2 มิตินั่นเอง หน้าตาจะเป็น\n",
    "\n",
    "แถวที่ 0 [1,2,3,4]<br>\n",
    "แถวที่ 1 [1,2,3,4]\n",
    "\n",
    "#### คำถาม\n",
    "สมมติว่ามี list ซ้อน list, myList = [[1,2,3,4],[5,6,7,8],[9,10,11,12]] ถ้าอยากจะเข้าถึงด้วยดัชนีที่ค่า 10 จะเข้าถึงได้อย่างไร ให้นิสิตลองดูด้วยตัวเองหรือค้นคว้าด้วย keyword \"python 2d array\"\n"
   ]
  },
  {
   "cell_type": "code",
   "execution_count": null,
   "metadata": {
    "collapsed": true
   },
   "outputs": [],
   "source": [
    "# try here"
   ]
  },
  {
   "cell_type": "markdown",
   "metadata": {},
   "source": [
    "คำตอบคือ\n",
    "\n",
    "\n",
    "เราลองวาดให้อยู่ในรูปที่ดูง่ายๆ ก่อน <br>\n",
    "แถวที่ 0 [1,2,3,4]<br>\n",
    "แถวที่ 1 [5,6,7,8]<br>\n",
    "แถวที่ 2 [9,10,11,12]<br>\n",
    "myList\\[2\\]\\[1\\] เพราะอยู่แถวที่ 2 และอยู่คอลัมน์ 1 ดังนั้นถ้าเจอ list ซ้อน list อย่าเพิ่งตกใจ ให้พยายามจัดรูปให้ดูง่ายๆ ก่อนแล้วค่อยพิจารณาดัชนีเป็นแถวและคอลัมน์ตามลำดับ และอย่าลืมว่าดัชนีจะต้องเริ่มที่ 0 เสมอ\n",
    "\n",
    "มีอีกหนึ่งประเด็นที่จะต้องระวังสืบเนื่องจากการกำหนดข้อมูลแบบอ้างอิง ลองพิจารณาจากตัวอย่างด้านล่าง"
   ]
  },
  {
   "cell_type": "code",
   "execution_count": 3,
   "metadata": {},
   "outputs": [
    {
     "name": "stdout",
     "output_type": "stream",
     "text": [
      "[1, 2, 3, 4]\n",
      "[10, 2, 3, 4]\n"
     ]
    }
   ],
   "source": [
    "myList = [1,2,3,4]\n",
    "A = myList\n",
    "print(A)\n",
    "A[0] = 10\n",
    "print(myList)"
   ]
  },
  {
   "cell_type": "markdown",
   "metadata": {},
   "source": [
    "เห็นได้ว่าหลังจากที่เรากำหนด A = myList แล้ว เมื่อมีการเปลี่ยนแปลงค่าใน A ค่าใน myList จะเปลี่ยนแปลงตามไปด้วย สาเหตุที่เป็นเช่นนี้ก็เพราะว่า A กับ myList ถูกกำหนดให้ชี้ไปยังก้อนข้อมูลก้อนเดียวกัน ดังนั้นไม่ว่าจะเปลี่ยนแปลงค่าผ่าน A หรือ myList ก็จะเสมือนว่าข้อมูลของอีกตัวแปรที่เหลือจะถูกเปลี่ยนตามไปด้วย ดังแสดงตัวอย่างใน [รูปที่ 2](#figure_02)\n",
    "\n",
    "<a name=\"figure_02\"></a>\n",
    "\n",
    "![alt text](/files/imgs/ref_assign_list.jpg \"list assignment\")\n",
    "\n",
    "อย่างไรก็ดีข้อระวังนี้จะเกิดขึ้นกับรูปแบบโครงสร้างข้อมูลเท่านั้น ส่วนรูปแบบข้อมูลพื้นฐานจะไม่เป็นปัญหาดังตัวอย่าง"
   ]
  },
  {
   "cell_type": "code",
   "execution_count": 28,
   "metadata": {},
   "outputs": [
    {
     "name": "stdout",
     "output_type": "stream",
     "text": [
      "5\n",
      "4\n"
     ]
    }
   ],
   "source": [
    "a = 5\n",
    "b = a\n",
    "b = 4\n",
    "print(a)\n",
    "print(b)"
   ]
  },
  {
   "cell_type": "markdown",
   "metadata": {
    "collapsed": true
   },
   "source": [
    "นอกจาก list จะมีตัวดำเนินการให้แล้ว อีกอย่างหนึ่งที่เป็นตัวดำเนินเหมือนกันแต่อยู่ในรูปของฟังก์ชั่นก็คือ เมธอด (method) ซึ่งก็ไม่ได้ต่างอะไรกับ java ที่นิสิตเคยเรียนมา โดยเมธอดของ list ที่มีให้ใช้ดัง [ตารางที่ 3](#table_03)\n",
    "\n",
    "<a name=\"table_03\"></a>\n",
    "\n",
    "| ชื่อเมธอด | การใช้งาน             | คำอธิบาย                                |\n",
    "|-----------|----------------------|----------------------------------------|\n",
    "| append    | alist.append(item)   | เพิ่ม item ต่อข้างท้ายของ alist             |\n",
    "| insert    | alist.insert(i,item) | ใส่ item เข้าไปที่ตำแหน่งที่ i ของ alist      |\n",
    "| pop       | alist.pop()          | ดึงข้อมูลตัวสุดท้ายของ alist ออกมาพร้อมทั้งคืนค่า |\n",
    "| pop       | alist.pop(i)         | ดึงข้อมูลตัวที่ i ของ alist ออกมาพร้อมทั้งคืนค่า  |\n",
    "| sort      | alist.sort()         | แก้ไข alist ให้เรียงลำดับ                  |\n",
    "| reverse   | alist.reverse()      | แก้ไข alist ให้กลับลำดับ                   |\n",
    "| del       | del alist[i]         | ลบข้อมูลตัวที่ i                            |\n",
    "| index     | alist.index(item)    | คืนค่าดัชนีแรกที่ค้นเจอ item                  |\n",
    "| count     | alist.count(item)    | นับจำนวน item ที่เจอใน alist              |\n",
    "| remove    | alist.remove(item)   | ลบข้อมูล item ที่เจอตัวแรกใน alist          |\n",
    "\n",
    "การเรียกใช้เมธอดก็ใช้แบบเดียวกับ java คือใช้ . ตัวอย่างการใช้งานเมธอดของ list มีดังนี้"
   ]
  },
  {
   "cell_type": "code",
   "execution_count": 4,
   "metadata": {},
   "outputs": [
    {
     "name": "stdout",
     "output_type": "stream",
     "text": [
      "[1024, 3, True, 6.5, False]\n",
      "[1024, 3, 4.5, True, 6.5, False]\n",
      "False\n",
      "[1024, 3, 4.5, True, 6.5]\n",
      "3\n",
      "[1024, 4.5, True, 6.5]\n",
      "[1024, 4.5, 6.5]\n",
      "[4.5, 6.5, 1024]\n",
      "[1024, 6.5, 4.5]\n",
      "1\n",
      "2\n",
      "[1024, 4.5]\n",
      "[4.5]\n"
     ]
    }
   ],
   "source": [
    "myList = [1024, 3, True, 6.5]\n",
    "myList.append(False)\n",
    "print(myList)\n",
    "myList.insert(2,4.5)\n",
    "print(myList)\n",
    "print(myList.pop())\n",
    "print(myList)\n",
    "print(myList.pop(1))\n",
    "print(myList)\n",
    "myList.pop(2)\n",
    "print(myList)\n",
    "myList.sort()\n",
    "print(myList)\n",
    "myList.reverse()\n",
    "print(myList)\n",
    "print(myList.count(6.5))\n",
    "print(myList.index(4.5))\n",
    "myList.remove(6.5)\n",
    "print(myList)\n",
    "del myList[0]\n",
    "print(myList)"
   ]
  },
  {
   "cell_type": "markdown",
   "metadata": {},
   "source": [
    "#### คำถาม\n",
    "มีเมธอดไหนบ้างที่ทำการแก้ไข list จงแสดงตัวอย่างด้วย"
   ]
  },
  {
   "cell_type": "code",
   "execution_count": 5,
   "metadata": {
    "collapsed": true
   },
   "outputs": [],
   "source": [
    "# try here"
   ]
  },
  {
   "cell_type": "markdown",
   "metadata": {},
   "source": [
    "นอกจากเมธอดแล้วฟังก์ชันพื้นฐานของ python ที่มักจะใช้ร่วมกับ list คือ range เป็นฟังก์ชันที่เอาไว้สร้างชุดของตัวเลข เช่น"
   ]
  },
  {
   "cell_type": "code",
   "execution_count": 28,
   "metadata": {},
   "outputs": [
    {
     "name": "stdout",
     "output_type": "stream",
     "text": [
      "range(0, 10)\n",
      "[0, 1, 2, 3, 4, 5, 6, 7, 8, 9]\n",
      "[5, 6, 7, 8, 9]\n",
      "[5, 6, 7, 8, 9]\n",
      "[5, 7, 9]\n",
      "[]\n",
      "[10, 9, 8, 7, 6]\n",
      "[10, 8, 6, 4, 2, 0]\n"
     ]
    }
   ],
   "source": [
    "print(range(10))\n",
    "print(list(range(10)))\n",
    "print(list(range(5,10)))\n",
    "print(list(range(5,10,1)))\n",
    "print(list(range(5,10,2)))\n",
    "print(list(range(10,5)))\n",
    "print(list(range(10,5,-1)))\n",
    "print(list(range(10,5,-2)))"
   ]
  },
  {
   "cell_type": "markdown",
   "metadata": {},
   "source": [
    "จากตัวอย่างจะเห็นได้ว่า range จะให้ผลลัพธ์ออกมาเป็น object ชนิด range อีกทีซึ่งเป็นสิ่งที่เราไม่เข้าใจ จึงต้องแปลงให้อยู่ในรูปของ list ก่อน เมื่อค้นหาจากคู่มือแล้วพบว่า\n",
    "\n",
    "range(start, stop[, step])\n",
    "\n",
    "ให้ผลออกมาเป็นลำดับของตัวเลขตั้งแต่ start ถึง stop-1 ด้วยการกระโดดเป็นจำนวน step คำอธิบายนี้อาจจะยังไม่ชัดเจนให้ดูตัวอย่างด้านบนจะเห็นว่า step จะมีหรือไม่ก็ได้ แต่ถ้าไม่มีจะหมายความว่า step จะเป็น 1 ยังไม่หมดเพียงแค่นี้ จากตัวอย่างจะเห็นว่า ถ้า start กลายเป็นค่าที่มากกว่า stop ถ้าไม่กำหนด step จะไม่มีอะไรเกิดขึ้นใน list เลย ดังนั้นจึงจำเป็นต้องกำหนด step เป็นค่าที่ติดลบเพื่อให้กระโดดถอยหลัง\n",
    "\n",
    "#### คำถาม\n",
    "1. จงสร้าง list ที่มีค่าตั้งแต่ 50 - 60 ด้วย range \n",
    "2. จงสร้าง list ที่มีค่าตั้งแต่ 60 - 50 ด้วย range\n",
    "3. ข้อระวังในการใช้ range คืออะไร"
   ]
  },
  {
   "cell_type": "code",
   "execution_count": 1,
   "metadata": {
    "collapsed": true
   },
   "outputs": [],
   "source": [
    "# try here"
   ]
  },
  {
   "cell_type": "markdown",
   "metadata": {},
   "source": [
    "#### 1.3.2 สายอักขระ (string)\n",
    "string เปรียบเป็นโครงสร้างข้อมูลอย่างหนึ่ง โดยเก็บเป็นลำดับของตัวอักษร (character) ซึ่งประกอบด้วยตัวอักษร ตัวเลข หรือสัญลักษณ์อื่นๆ โดย string จะประกาศด้วยสัญลักษณ์ \" หรือ ' ต่างจาก java ที่ใช้ ' สำหรับตัวอักษร"
   ]
  },
  {
   "cell_type": "code",
   "execution_count": 7,
   "metadata": {},
   "outputs": [
    {
     "name": "stdout",
     "output_type": "stream",
     "text": [
      "i am the first string.\n",
      "i am the second string.\n",
      "a\n",
      "i am the second string.i am the second string.\n",
      "22\n"
     ]
    }
   ],
   "source": [
    "s0 = \"i am the first string.\"\n",
    "s1 = 'i am the second string.'\n",
    "print(s0)\n",
    "print(s1)\n",
    "print(s0[2])\n",
    "print(s1 * 2)\n",
    "print(len(s0))"
   ]
  },
  {
   "cell_type": "markdown",
   "metadata": {},
   "source": [
    "อย่างที่เห็นกันคือ string มีลักษณะข้อมูลแบบเป็นลำดับ ดังนั้นจึงใช้งานหลักๆ ได้เหมือนกับ list แต่ก็มีเมธอดเฉพาะตัวเช่นกันดัง [ตารางที่ 4](#table_04)\n",
    "\n",
    "<a name=\"table_04\"></a>\n",
    "\n",
    "| ชื่อเมธอด | การใช้งาน             | คำอธิบาย                                              |\n",
    "|-----------|----------------------|------------------------------------------------------|\n",
    "| center    | astring.center(w)    | คืนค่า string ที่วางตัวอยู่ตรงกลางเมื่อกำหนดช่วงความยาว w      |\n",
    "| count     | astring.count(item)  | คืนค่าการนับจำนวน item ที่ปรากฎใน astring                 |\n",
    "| ljust     | astring.ljust(w)     | คืนค่า string ที่วางตัวชิดซ้ายเมื่อกำหนดช่วงความยาว w          |\n",
    "| lower     | astring.lower()      | คืนค่า string ที่แปลงเป็นตัวอักษรตัวเล็ก                      |\n",
    "| upper     | astring.upper()      | คืนค่า string ที่แปลงเป็นอักษรตัวใหญ่                        |\n",
    "| rjust     | astring.rjust(w)     | คืนค่า string ที่วางตัวชิดขวาเมื่อกำหนดช่วงความยาว w          |\n",
    "| find      | astring.find(item)   | คืนค่าดัชนีแรกที่เจอ item                                  |\n",
    "| split     | astring.split(schar) | แบ่ง astring ด้วยตัวคั่น schar แล้วคืนค่าเป็น list ของ string |"
   ]
  },
  {
   "cell_type": "code",
   "execution_count": 14,
   "metadata": {},
   "outputs": [
    {
     "name": "stdout",
     "output_type": "stream",
     "text": [
      "I AM THE FIRST STRING.\n",
      "3\n",
      "['1', '2', '3', '4', '5', '6']\n",
      "['1', '2', '3', '4', '5', '6']\n",
      "['a', 'b', 'c', 'd', 'e', 'f']\n"
     ]
    }
   ],
   "source": [
    "s0_upper = s0.upper()\n",
    "print(s0_upper)\n",
    "print(s0.count(\"t\"))\n",
    "s2 = \"1 2 3 4 5 6\"\n",
    "print(s2.split(' '))\n",
    "print(s2.split())\n",
    "s3 = \"a,b,c,d,e,f\"\n",
    "print(s3.split(','))"
   ]
  },
  {
   "cell_type": "markdown",
   "metadata": {},
   "source": [
    "จากตัวอย่างแสดงให้เห็นถึงการใช้งานอย่างง่ายๆ เมธอดที่จะใช้บ่อยๆ คือ split เพราะจะได้ใช้อย่างแน่นอนตอนรับข้อมูลในระบบ grader เราจะเห็นได้ว่า split(' ') กับ split() มีพฤติกรรมแบบเดียวกันคือใช้ space เป็นตัวคั่น แต่มีประเด็นที่น่าสนใจอีกคือ\n",
    "\n",
    "#### คำถาม\n",
    "1. หากต้องการแบ่งตัวอักษรทุกตัวใน string ให้อยู่ในรูป list ของตัวอักษรต้องทำอย่างไร ให้ค้นหาแล้วบอกว่า keyword ที่ใช้คืออะไร แล้วได้คำตอบว่าอะไร\n",
    "2. ถ้ากำหนด s = \"ttttttttt\" จะนับ \"ttt\" ด้วย s.count(\"ttt\") ได้ผลลัพธ์คืออะไร ให้ลองคิดดูก่อนแล้วค่อยหาคำตอบจากการเขียนรหัส"
   ]
  },
  {
   "cell_type": "code",
   "execution_count": 15,
   "metadata": {
    "collapsed": true
   },
   "outputs": [],
   "source": [
    "# try here"
   ]
  },
  {
   "cell_type": "code",
   "execution_count": 19,
   "metadata": {},
   "outputs": [
    {
     "name": "stdout",
     "output_type": "stream",
     "text": [
      "h\n"
     ]
    },
    {
     "ename": "TypeError",
     "evalue": "'str' object does not support item assignment",
     "output_type": "error",
     "traceback": [
      "\u001b[0;31m---------------------------------------------------------------------------\u001b[0m",
      "\u001b[0;31mTypeError\u001b[0m                                 Traceback (most recent call last)",
      "\u001b[0;32m<ipython-input-19-dacd9387a057>\u001b[0m in \u001b[0;36m<module>\u001b[0;34m()\u001b[0m\n\u001b[1;32m      1\u001b[0m \u001b[0ms\u001b[0m \u001b[1;33m=\u001b[0m \u001b[1;34m\"hello\"\u001b[0m\u001b[1;33m\u001b[0m\u001b[0m\n\u001b[1;32m      2\u001b[0m \u001b[0mprint\u001b[0m\u001b[1;33m(\u001b[0m\u001b[0ms\u001b[0m\u001b[1;33m[\u001b[0m\u001b[1;36m0\u001b[0m\u001b[1;33m]\u001b[0m\u001b[1;33m)\u001b[0m\u001b[1;33m\u001b[0m\u001b[0m\n\u001b[0;32m----> 3\u001b[0;31m \u001b[0ms\u001b[0m\u001b[1;33m[\u001b[0m\u001b[1;36m0\u001b[0m\u001b[1;33m]\u001b[0m \u001b[1;33m=\u001b[0m \u001b[1;34m\"y\"\u001b[0m\u001b[1;33m\u001b[0m\u001b[0m\n\u001b[0m",
      "\u001b[0;31mTypeError\u001b[0m: 'str' object does not support item assignment"
     ]
    }
   ],
   "source": [
    "s = \"hello\"\n",
    "print(s[0])\n",
    "s[0] = \"y\""
   ]
  },
  {
   "cell_type": "markdown",
   "metadata": {},
   "source": [
    "จากตัวอย่างเราเห็นพฤติกรรมอย่างหนึ่งที่แตกต่างจาก list คือ string สามารถดึงค่าด้วยดัชนีได้ แต่ไม่สามารถแก้ไขค่าด้วยดัชนีได้ ดังนั้นถ้าหากต้องการแก้ไข string เราจะต้องแปลง string ให้เป็น list ก่อน แล้วแก้ไขตามดัชนีที่ต้องการแล้วจึงแปลงกลับไปเป็น string"
   ]
  },
  {
   "cell_type": "code",
   "execution_count": 24,
   "metadata": {},
   "outputs": [
    {
     "name": "stdout",
     "output_type": "stream",
     "text": [
      "hello\n",
      "yello\n"
     ]
    }
   ],
   "source": [
    "s = 'hello'\n",
    "print(s)\n",
    "l = list(s)\n",
    "l[0] = \"y\"\n",
    "s = ''.join(l)\n",
    "print(s)"
   ]
  },
  {
   "cell_type": "markdown",
   "metadata": {},
   "source": [
    "#### คำถาม\n",
    "จากตัวอย่างด้านบน คำสั่งใดที่ทำการแปลงจาก string ให้อยู่ในรูป list ของตัวอักษร และคำสั่งใดที่ทำการแปลง list ของตัวอักษร กลับไปเป็น string\n",
    "\n",
    "#### 1.3.3 เซต (set)\n",
    "set เป็นโครงสร้างข้อมูลที่ไม่มีลำดับ หมายความว่าเมื่อเราใส่ข้อมูลเข้าไปใน set เป็นลำดับแล้วเมื่อเรียกใช้เป็นลำดับจะได้ผลออกมาเหมือนกับตอนที่ใส่ข้อมูล"
   ]
  },
  {
   "cell_type": "markdown",
   "metadata": {},
   "source": [
    "คำตอบ"
   ]
  },
  {
   "cell_type": "code",
   "execution_count": 13,
   "metadata": {},
   "outputs": [
    {
     "name": "stdout",
     "output_type": "stream",
     "text": [
      "set()\n"
     ]
    }
   ],
   "source": [
    "set1 = set()\n",
    "print (set1)"
   ]
  },
  {
   "cell_type": "code",
   "execution_count": 15,
   "metadata": {},
   "outputs": [
    {
     "name": "stdout",
     "output_type": "stream",
     "text": [
      "{False, 3, 4.5, 6, 'cat'}\n"
     ]
    }
   ],
   "source": [
    "mySet = {3,6,\"cat\",4.5,False , 3,6}\n",
    "print(mySet)"
   ]
  },
  {
   "cell_type": "markdown",
   "metadata": {},
   "source": [
    "ดังตัวอย่างก็ชัดเจนว่าใส่ข้อมูลแบบหนึ่งแต่ผลลัพธ์ที่ได้ออกมาเป็นอีกแบบ และการสร้าง set เราจะใช้เครื่องหมาย { } และมี , เป็นตัวคั่นแต่ละสมาชิก เนื่องจาก set เป็นโครงสร้างข้อมูลที่แทบจะไม่ได้ถูกใช้เลยในรายวิชานี้ จึงขอทิ้งไว้เป็นการบ้าน\n",
    "\n",
    "#### คำถาม\n",
    "จาก [interactivepython](http://interactivepython.org/runestone/static/pythonds/Introduction/GettingStartedwithData.html#tab-setops) จงอธิบายว่า set มีตัวดำเนินการและเมธอดอะไรให้ใช้บ้าง และแสดงตัวอย่างการใช้งานแต่ละตัวดำเนินการและเมธอดที่แตกต่างจากในเวบไซต์"
   ]
  },
  {
   "cell_type": "markdown",
   "metadata": {},
   "source": [
    "คำอธิบาย"
   ]
  },
  {
   "cell_type": "code",
   "execution_count": null,
   "metadata": {
    "collapsed": true
   },
   "outputs": [],
   "source": [
    "# try here"
   ]
  },
  {
   "cell_type": "markdown",
   "metadata": {},
   "source": [
    "#### 1.3.4 พจนานุกรม (dictionary)\n",
    "dictionary เป็นโครงสร้างข้อมูลของคู่ลำดับ ตัวหนึ่งคือ คีย์ (key) และอีกตัวคือ ค่า (value) การสร้าง dictionary นั้นอยู่ภายในสัญลักษณ์ { } เราแทนคู่ลำดับ key : value คั่นด้วย : คือ 1 ข้อมูลใน dictionary แล้วคั่นแต่ละข้อมูลด้วย , "
   ]
  },
  {
   "cell_type": "code",
   "execution_count": 33,
   "metadata": {},
   "outputs": [
    {
     "name": "stdout",
     "output_type": "stream",
     "text": [
      "{'Iowa': 'DesMoines', 'Wisconsin': 'Madison'}\n"
     ]
    }
   ],
   "source": [
    "capitals = {'Iowa':'DesMoines','Wisconsin':'Madison'}\n",
    "print(capitals)"
   ]
  },
  {
   "cell_type": "markdown",
   "metadata": {},
   "source": [
    "เราสามารถเข้าถึง value ใน dictionary ได้ด้วย key"
   ]
  },
  {
   "cell_type": "code",
   "execution_count": 27,
   "metadata": {},
   "outputs": [
    {
     "name": "stdout",
     "output_type": "stream",
     "text": [
      "DesMoines\n"
     ]
    }
   ],
   "source": [
    "print(capitals['Iowa'])"
   ]
  },
  {
   "cell_type": "markdown",
   "metadata": {},
   "source": [
    "การเข้าถึงข้อมูลจะคล้ายๆ กับ list ที่ใช้ดัชนีเป็นตัวเลข แต่ dictionary จะใช้ key แทนดัชนี นอกจากการเข้าถึงข้อมูลแล้ว การเพิ่มข้อมูลก็ยังใช้รูปแบบเดียวกันคือ"
   ]
  },
  {
   "cell_type": "code",
   "execution_count": 34,
   "metadata": {},
   "outputs": [
    {
     "name": "stdout",
     "output_type": "stream",
     "text": [
      "{'Iowa': 'DesMoines', 'Wisconsin': 'Madison', 'Utah': 'SaltLakeCity', 'California': 'Sacramento', 'Thailand': 'Bangkok'}\n"
     ]
    }
   ],
   "source": [
    "capitals['Utah']='SaltLakeCity'\n",
    "capitals['California']='Sacramento'\n",
    "capitals['Thailand'] = 'Bangkok'\n",
    "print(capitals)"
   ]
  },
  {
   "cell_type": "markdown",
   "metadata": {},
   "source": [
    "dictionary มีตัวดำเนินการและเมธอด ดัง [ตารางที่ 5](#table_05) และ [ตารางที่ 6](#table_06)\n",
    "\n",
    "<a name=\"table_05\"></a>\n",
    "\n",
    "| ตัวดำเนินการ | การใช้งาน       | คำอธิบาย                                         |\n",
    "|----------|----------------|-------------------------------------------------|\n",
    "| []       | myDict[k]      | คืนค่า value ที่เป็นคู่ของ key k                       |\n",
    "| in       | key in adict   | คืนค่า True เมื่อมี key อยู่ใน adict ถ้าไม่มีจะคืนค่า False |\n",
    "| del      | del adict[key] | ลบคู่ลำดับของ key ออกจาก adict                     |\n"
   ]
  },
  {
   "cell_type": "markdown",
   "metadata": {},
   "source": [
    "<a name=\"table_06\"></a>\n",
    "\n",
    "| ชื่อเมธอด | การใช้งาน         | คำอธิบาย                                          |\n",
    "|-----------|------------------|--------------------------------------------------|\n",
    "| keys      | adict.keys()     | คืนค่า key ทั้งหมดในรูปแบบข้อมูล dict_keys              |\n",
    "| values    | adict.values()   | คืนค่า value ทั้งหมดในรูปแบบข้อมูล dict_values          |\n",
    "| items     | adict.items()    | คืนค่าคู่ลำดับ key-value ทั้งหมดในรูปแบบข้อมูบ dict_items  |\n",
    "| get       | adict.get(k)     | คืนค่า value ที่สัมพันธ์กับ key k ถ้าไม่เจอจะคืนค่า None แทน |\n",
    "| get       | adict.get(k,alt) | คืนค่า value ที่สัมพันธ์กับ key k ถ้าไม่เจอจะคืนค่า alt แทน  |"
   ]
  },
  {
   "cell_type": "code",
   "execution_count": 42,
   "metadata": {},
   "outputs": [
    {
     "name": "stdout",
     "output_type": "stream",
     "text": [
      "{'david': 1410, 'brad': 1137}\n",
      "dict_keys(['david', 'brad'])\n",
      "['david', 'brad']\n",
      "dict_values([1410, 1137])\n",
      "[1410, 1137]\n",
      "dict_items([('david', 1410), ('brad', 1137)])\n",
      "[('david', 1410), ('brad', 1137)]\n",
      "None\n",
      "NO ENTRY\n"
     ]
    }
   ],
   "source": [
    "phoneext={'david':1410,'brad':1137}\n",
    "print(phoneext)\n",
    "print(phoneext.keys())\n",
    "print(list(phoneext.keys()))\n",
    "print(phoneext.values())\n",
    "print(list(phoneext.values()))\n",
    "print(phoneext.items())\n",
    "print(list(phoneext.items()))\n",
    "print(phoneext.get(\"kent\"))\n",
    "print(phoneext.get(\"kent\",\"NO ENTRY\"))"
   ]
  },
  {
   "cell_type": "markdown",
   "metadata": {},
   "source": [
    "จากตัวอย่างก็ตรงไปตรงมาจากตาราง จุดสังเกตหลักคือการคืนค่ามาเป็นรูปแบบข้อมูล dict_keys, dict_values และ dict_items หากต้องการนำมาใช้งานต่อจะต้องแปลงให้อยู่ในรูปของ list ก่อน และ get สามารถใช้ได้ 2 แบบคือแบบที่หา key ไม่เจอแล้วคืนค่า None หรือคืนค่าที่เราสามารถกำหนดได้เอง\n",
    "\n",
    "## 2. ข้อมูลขาเข้าและผลลัพธ์\n",
    "ถือเป็นสิ่งที่สำคัญอย่างหนึ่งเพราะนิสิตจะต้องใช้ระบบ grader ซึ่งจะต้องรับข้อมูลขาเข้าให้ถูกรูปแบบ รวมถึงแสดงผลลัพธ์ให้ถูกรูปแบบด้วยเช่นกัน\n",
    "\n",
    "การรับข้อมูลจะรับผ่านทางแป้นพิมพ์โดยฟังก์ชันที่เกี่ยวข้องก็ตรงตัวเลยคือ input มีการเรียกใช้ดังนี้"
   ]
  },
  {
   "cell_type": "code",
   "execution_count": 4,
   "metadata": {},
   "outputs": [
    {
     "name": "stdout",
     "output_type": "stream",
     "text": [
      "Please enter your name: John\n",
      "John\n",
      "Jane\n",
      "Jane\n"
     ]
    }
   ],
   "source": [
    "aName = input('Please enter your name: ')\n",
    "print(aName)\n",
    "aName = input()\n",
    "print(aName)"
   ]
  },
  {
   "cell_type": "markdown",
   "metadata": {},
   "source": [
    "---\n",
    "**NOTE**\n",
    "\n",
    "จากตัวอย่างจะเห็นได้ว่าถ้าหากเราส่ง string เข้าไปเป็นพารามิเตอร์ให้กับ input() จะทำพิมพ์ออกมาทางหน้าจอด้วย string นั้นก่อนแล้วจึงรับข้อมูล ซึ่งต้องระวังเพราะในการใช้งานระบบ grader นั้น ไม่ต้องการให้แสดงผลอะไรที่ไม่จำเป็นออกมา จึงมักจะใช้ input() แบบไม่รับพารามิเตอร์เป็นหลัก โดยการทำงานของโปรแกรมจะรอรับข้อมูลโดยที่ไม่แสดงผลอะไรออกมาก่อน\n",
    "\n",
    "---\n",
    "\n",
    "สิ่งที่ต้องคำนึงถึงอีกอย่างหนึ่งคือ ค่าที่ได้มาจาก input() คือ string ต่อให้รับมาเป็นตัวเลข แต่จริงๆ แล้วคือ string ดังนั้นถ้าต้องการนำมาคำนวณจะต้องแปลงให้เป็นชนิดข้อมูลแบบตัวเลขก่อน เช่น"
   ]
  },
  {
   "cell_type": "code",
   "execution_count": 6,
   "metadata": {},
   "outputs": [
    {
     "name": "stdout",
     "output_type": "stream",
     "text": [
      "1\n",
      "2\n",
      "12\n",
      "3\n",
      "3.0\n"
     ]
    }
   ],
   "source": [
    "a = input()\n",
    "b = input()\n",
    "print(a+b)\n",
    "c = int(a)\n",
    "d = int(b)\n",
    "print(c+d)\n",
    "e = float(a)\n",
    "f = float(b)\n",
    "print(e+f)"
   ]
  },
  {
   "cell_type": "markdown",
   "metadata": {},
   "source": [
    "ถ้าเรารับ a กับ b แล้วนำมา + กันตรงๆ ผลที่ได้คือการ + string ซึ่งคือการต่อ (concatenation) string แต่ถ้าเราแปลงให้เป็น int ก่อนด้วยฟังก์ชัน int() หรือ แปลงให้เป็น float ด้วยฟังก์ชัน float() ผลของการ + จะได้เป็นไปตามรูปแบบข้อมูลนั้นๆ \n",
    "\n",
    "### 2.1 รูปแบบของสายอักขระ (string format)\n",
    "ที่ผ่านมานิสิตใช้ print เพื่อแสดงผลตัวแปรตรงๆ โดยรูปแบบจะเป็นไปตาม python แต่เราก็สามารถที่จะแสดงผลในลักษณะอื่นได้อีก เช่น"
   ]
  },
  {
   "cell_type": "code",
   "execution_count": 16,
   "metadata": {},
   "outputs": [
    {
     "name": "stdout",
     "output_type": "stream",
     "text": [
      "Hello\n",
      "Hello World\n",
      "Hello***World\n",
      "Hello Worldxxxend\n"
     ]
    }
   ],
   "source": [
    "print(\"Hello\")\n",
    "print(\"Hello\",\"World\")\n",
    "print(\"Hello\",\"World\", sep=\"***\")\n",
    "print(\"Hello\",\"World\", end=\"xxx\")\n",
    "print(\"end\")"
   ]
  },
  {
   "cell_type": "markdown",
   "metadata": {},
   "source": [
    "print ถ้าคั่นด้วย , จะแสดงผลออกมามี space คั่นให้เลยอัตโนมัติ แต่ถ้าเราไม่อยากได้ space สามารถแทนด้วย string อื่นได้ ในตัวอย่างนี้คือ \\*\\*\\* โดยกำหนดผ่านพารามิเตอร์ชื่อ sep และสิ่งที่ print ทำให้เราตลอดเวลาคือแสดงผลแล้วจะขึ้นบรรทัดใหม่ให้เลย ซึ่งให้นิสิตเข้าใจว่าคือ string ที่แทนการขึ้นบรรทัดใหม่ แต่ถ้าเราอยากให้จบด้วย string แบบอื่นก็สามารถทำได้เช่นกันผ่านการกำหนดผ่านพารามิเตอร์ชื่อ end ดังตัวอย่างนี้คือ xxx จะเห็นว่าไม่ขึ้นบรรทัดใหม่ให้แล้ว\n",
    "\n",
    "#### คำถาม\n",
    "หากต้องการแสดงผล string 2 ตัวติดกันโดยไม่ใช้ตัวดำเนินการ + แต่ใช้ผ่านพารามิเตอร์ sep จะต้องทำอย่างไร"
   ]
  },
  {
   "cell_type": "code",
   "execution_count": 19,
   "metadata": {},
   "outputs": [
    {
     "name": "stdout",
     "output_type": "stream",
     "text": [
      "THOM,AHCJ,CRKG\n",
      "ltur,josc,rztl\n",
      "['THOM', 'AHCJ', 'CRKG']\n",
      "['ltur', 'josc', 'rztl']\n",
      "{'THOM': 'ltur', 'AHCJ': 'josc', 'CRKG': 'rztl'}\n",
      "'AHCJ': 'josc' , 'CRKG': 'rztl' , 'THOM': 'ltur' , "
     ]
    }
   ],
   "source": [
    "dic1 = {}\n",
    "a = input()\n",
    "b = input()\n",
    "la = a.split(',')\n",
    "lb = b.split(',')\n",
    "print(la)\n",
    "print(lb)\n",
    "for i in range(len(la)):\n",
    "    dic1[la[i]] = lb[i]\n",
    "print(dic1)\n",
    "for key in sorted(dic1):\n",
    "    print (\"'%s': '%s'\" % (key, dic1[key]))"
   ]
  },
  {
   "cell_type": "markdown",
   "metadata": {},
   "source": [
    "นอกจากนี้เรายังสามารถกำหนดรูปแบบของ string ได้เอง โดยใช้เครื่องหมาย %"
   ]
  },
  {
   "cell_type": "markdown",
   "metadata": {},
   "source": [
    "% ที่อยู่ภายใน \" \" บ่งบอกถึงรูปแบบข้อมูลที่จะนำมาแสดงผล ในขณะที่ % ที่อยู่ข้างนอกบ่งบอกถึงลำดับของตัวแปรที่จะนำมาแสดงผล ตามตัวอย่างนี้คือ %s เจอเป็นลำดับแรกจะนำ aName มาแสดงผล %d เจอเป็นลำดับที่สองจะนำ age มาแสดงผล\n",
    "\n",
    "นิสิตน่าจะเกิดคำถามว่า %s %d คืออะไร จริงๆ แล้ว java ก็มี string format เช่นกัน [java string format](https://dzone.com/articles/java-string-format-examples) python ก็เช่นเดียวกัน %s แทนการแสดงผลแบบ string และ %d แทนการแสดงผลแบบ int มีการแสดงผลแบบอื่นๆ อีกดังแสดงใน [ตารางที่ 7](#table_07)\n",
    "\n",
    "<a name=\"table_07\"></a>\n",
    "\n",
    "| ตัวอักษร | รูปแบบข้อมูล                              |\n",
    "|-----------|----------------------------------------|\n",
    "| d, i      | int                                    |\n",
    "| u         | int แบบไม่มีเครื่องหมาย (unsigned integer) |\n",
    "| f         | float ในรูปแบบ m.ddddd                  |\n",
    "| e         | float ในรูปแบบ m.ddddde+/-xx            |\n",
    "| E         | float ในรูปแบบ m.dddddE+/-xx            |\n",
    "| c         | ตัวอักษร 1 ตัว                         |\n",
    "| s         | string                                 |\n",
    "| %         | % โดยเวลาใช้คือ %% จะแสดงผลเป็น %         |\n",
    "\n",
    "อาจจะดูว่าเยอะแต่ในวิชานี้จะไม่ให้นิสิตต้องกังวล เราจะใช้กันแค่ d f s เป็นหลัก ซึ่งตัวที่จะมีปัญหาคือ f เพราะ"
   ]
  },
  {
   "cell_type": "code",
   "execution_count": 28,
   "metadata": {},
   "outputs": [
    {
     "name": "stdout",
     "output_type": "stream",
     "text": [
      "2.666600\n",
      "2.67\n"
     ]
    }
   ],
   "source": [
    "a = 2.6666\n",
    "print(\"%f\" % (a))\n",
    "print(\"%.2f\" % (a))"
   ]
  },
  {
   "cell_type": "markdown",
   "metadata": {},
   "source": [
    "จากตัวอย่างจะเห็นว่ามีการเพิ่ม .2 เข้าไประหว่าง % และ f ผลที่ได้คือแสดงผลออกมาเป็น float ที่มีทศนิยม 2 ตำแหน่งและปัดให้ด้วย ทั้งนี้นิสิตอาจจะไม่ทราบว่าการคำนวณ float จะมีสิ่งที่เรียกว่า ความผิดพลาดจากการปัด (round off error) ซึ่งเราเห็นได้ว่า 2.666600 มีความถูกต้องมากกว่า 2.67 ซึ่งความผิดพลาดนี้เกิดขึ้นได้เสมอเมื่อเราทำการคำนวณ float หลายๆ ครั้ง ดังนั้นในหลายๆ ครั้งที่ใช้ระบบ grader โจทย์จะกำหนดว่าผลลัพธ์สุดท้ายต้องการทศนิยม 2 หรือ 3 ตำแหน่งเพื่อหลีกเลี่ยงปัญหาจากความผิดพลาดนี้ ดังนั้นแสดงผล float ที่มีทศนิยม 2 ตำแหน่งใช้ %.2f และ 3 ตำแหน่งใช้ %.3f"
   ]
  },
  {
   "cell_type": "code",
   "execution_count": 29,
   "metadata": {},
   "outputs": [
    {
     "name": "stdout",
     "output_type": "stream",
     "text": [
      "2.67\n",
      "2.667\n"
     ]
    }
   ],
   "source": [
    "a = 2.6666\n",
    "print(\"%.2f\" % (a))\n",
    "print(\"%.3f\" % (a))"
   ]
  },
  {
   "cell_type": "code",
   "execution_count": 18,
   "metadata": {},
   "outputs": [
    {
     "name": "stdout",
     "output_type": "stream",
     "text": [
      "John is 20 years old.\n"
     ]
    }
   ],
   "source": [
    "aName = \"John\"\n",
    "age = 20\n",
    "print(\"%s is %d years old.\" % (aName, age))"
   ]
  },
  {
   "cell_type": "markdown",
   "metadata": {},
   "source": [
    "หลักๆ ที่จะใช้ในรายวิชาจะมีเพียงเท่านี้ แต่เพื่อความเข้าใจเพิ่มเติมให้นิสิตตอบคำถาม\n",
    "\n",
    "#### คำถาม\n",
    "จากเวบไซต์ภาษาอังกฤษ [Table 10](http://interactivepython.org/runestone/static/pythonds/Introduction/InputandOutput.html#tab-fmtaddsa) จงอธิบาย แสดงตัวอย่างพร้อมทั้งอธิบายรายละเอียดของตัวอย่างด้วย"
   ]
  },
  {
   "cell_type": "markdown",
   "metadata": {},
   "source": [
    "คำอธิบาย"
   ]
  },
  {
   "cell_type": "raw",
   "metadata": {
    "collapsed": true
   },
   "source": [
    "n = int(input())\n",
    "count2 = 0\n",
    "sum2 = 0\n",
    "count3 = 0\n",
    "sum3 = 0\n",
    "count4 = 0\n",
    "sum4 = 0\n",
    "for i in range(n):\n",
    "    s = input()\n",
    "\tls = s.split(',')\n",
    "    if len(ls) == 2:\n",
    "\t\tcount2 = count2 + 1\n",
    "\t\tsum2 = sum2 + int(ls[1])\n",
    "\telif len(ls) == 4:\n",
    "\t\tcount3 = count3 + 1\n",
    "\t\tsum3 = sum3 + int(ls[1]) + int(ls[2]) + int(ls[3])\n",
    "\telif len(ls) == 5:\n",
    "\t\tcount4 = count4 + 1\n",
    "\t\tsum4 = sum4 + int(ls[1]) + int(ls[2]) + int(ls[3]) + int(ls[4])\n",
    "print(\"line has \" , count2 , \"; sum length = \" , sum2)\n",
    "print(\"triangle has \" , count3 , \"; sum length = \" , sum3)\n",
    "print(\"square has \" , count4 , \"; sum length = \" , sum4)"
   ]
  },
  {
   "cell_type": "markdown",
   "metadata": {},
   "source": [
    "## 3. โครงสร้างควบคุม (control structure)\n",
    "จากที่นิสิตเคยเรียนมาในรายวิชาต่างๆ ที่เกี่ยวข้องกับการเขียนโปรแกรมโดยเฉพาะ java จะต้องมีการตัดสินใจและการใช้วงวนอยู่ตลอด สิ่งต่างๆ เหล่านี้เรียกว่า โครงสร้างควบคุม \n",
    "\n",
    "python มี while และ for ให้ใช้สำหรับวงวน แต่ วากยสัมพันธ์ (syntax) จะต่างกัน\n",
    "\n",
    "### 3.1 while"
   ]
  },
  {
   "cell_type": "code",
   "execution_count": 3,
   "metadata": {},
   "outputs": [
    {
     "name": "stdout",
     "output_type": "stream",
     "text": [
      "hello 0\n",
      "hello 1\n",
      "hello 2\n",
      "hello 3\n",
      "hello 4\n"
     ]
    }
   ],
   "source": [
    "counter = 0\n",
    "while counter < 5 :\n",
    "    print(\"hello\", counter)\n",
    "    counter = counter + 1"
   ]
  },
  {
   "cell_type": "markdown",
   "metadata": {},
   "source": [
    "จากตัวอย่างจะทำวงวนของการแสดงผล hello กับตัวนับ counter จำนวน 5 รอบ จาก 0 - 4 นิสิตอาจจะเกิดคำถามว่าถ้าต้องการทำ 5 รอบ ทำไมถึงไม่นับจาก 1 - 5 เจตนาก็เพราะอยากให้นิสิตคุ้นชินกับการใช้ดัชนีของ python ที่เริ่มที่ 0 ถ้าต้องการทำวงวน n รอบ ให้วนจนตัวนับไม่เกิน n หรือสิ้นสุดที่ n - 1 ในกรณีนี้คือ วนจนตัวนับไม่เกิน 5 หรือสิ้นสุดที่ 5 - 1 = 4 นั่นเอง\n",
    "\n",
    "ลองมาไล่เรียงรหัสอย่างละเอียด \n",
    "1. เริ่มต้นค่า counter = 0 \n",
    "2. ก่อนที่จะทำวงวน while จะทำการตรวจสอบเงื่อนไขว่า counter < 5 หรือไม่ พบว่า 0 < 5 เป็น True เข้าไปทำในวงวน\n",
    "3. แสดงผล hello ตามด้วย counter ได้เป็น hello 0\n",
    "4. เพิ่มค่า counter ไป 1 ณ ขณะนี้ counter = 1\n",
    "5. ก่อนที่จะทำวงวน while จะทำการตรวจสอบเงื่อนไขว่า counter < 5 หรือไม่ พบว่า 1 < 5 เป็น True เข้าไปทำในวงวน\n",
    "6. แสดงผล hello ตามด้วย counter ได้เป็น hello 1\n",
    "7. เพิ่มค่า counter ไป 1 ณ ขณะนี้ counter = 2\n",
    "ซ้ำไปเรื่อยๆ จน counter = 5\n",
    "8. ก่อนที่จะทำวงวน while จะทำการตรวจสอบเงื่อนไขว่า counter < 5 หรือไม่ พบว่า 5 < 5 เป็น False แล้วจึงไม่เข้าวงวน และจบการทำงาน\n",
    "\n",
    "ดูกันถึงเรื่องของวากยสัมพันธ์บ้าง สำหรับ while จะตามด้วยข้อความสั่ง (statement) ที่บอกถึงเงื่อนไข (condition) ซึ่งเงื่อนไขจะถูกทดสอบ หากได้ผลเป็น True จะเข้าไปทำวงวน แต่นิสิตจะสังเกตได้ว่าถ้าเป็น java จะมี { } บอกขอบข่าย (scope) ของวงวน แต่ในภาษา python จะใช้ย่อหน้า (indent) เป็นตัวบอกสโคป (scope) แทน นั่นคือ \n",
    "\n",
    " print(\"hello\", counter) <br>\n",
    " counter = counter + 1 \n",
    " \n",
    "อยู่ในสโคปของวนวน while ประเด็นยิบย่อยแต่มักจะผิดกันคือ เครื่องหมาย : ที่เอาไว้ปิดเงื่อนไข ซึ่งนิสิตต้องระวังหรือแปลความหมายความผิดพลาดจากวากยสัมพันธ์ (syntax error) ที่ python ฟ้องมา แล้วแก้ไขให้ถูกต้อง ส่วนจุดดีของ python คือไม่จำเป็นต้องใช้ ; จบคำสั่ง ซึ่งนิสิตควรจะต้องระวังหากกลับไปเขียน java ลองดูตัวอย่างเพิ่มเติม"
   ]
  },
  {
   "cell_type": "code",
   "execution_count": 7,
   "metadata": {},
   "outputs": [
    {
     "name": "stdout",
     "output_type": "stream",
     "text": [
      "0 False\n",
      "1 False\n",
      "2 False\n",
      "3 True\n"
     ]
    }
   ],
   "source": [
    "alist = [10,9,8,7,6,5,4]\n",
    "wannafind = 7\n",
    "counter = 0\n",
    "found = False\n",
    "length = len(alist)\n",
    "while counter < length and not found :\n",
    "    found = (wannafind == alist[counter])\n",
    "    print(counter, found)\n",
    "    counter = counter + 1"
   ]
  },
  {
   "cell_type": "markdown",
   "metadata": {},
   "source": [
    "ตัวอย่างนี้มีสิ่งที่เพิ่มเข้ามาคือตัวแปร found เริ่มต้นเป็น False ซึ่งจะมีการเปลี่ยนแปลงเป็น True เมื่อ wannafind มีค่าเท่ากับ alist ดัชนีที่ counter ตามรหัส\n",
    "\n",
    "found = (wannafind == alist[counter])\n",
    "\n",
    "ซึ่ง found ถูกนำไปใช้เพิ่มเงื่อนไขสำหรับ while คือถ้าเป็นค่าเริ่มต้น False เราจะได้ว่า not found หรือ not False คือ True นำมา and กับเงื่อนไข counter < length ในความหมายตามภาษามนุษย์คือ เราจะทำวงวนเมื่อ counter ไม่เกินความยาว length และ ยังไม่ found เงื่อนไขจะเป็น False เมื่อ counter สุดที่ length หรือ found แล้วเป็น True\n",
    "\n",
    "#### คำถาม\n",
    "หาก wannafind = 1 วงวน while จะสิ้นสุดที่ counter มีค่าเท่าไหร่ และ found มีค่าอะไร\n",
    "\n",
    "### 3.2 for\n",
    "สำหรับ for แล้วจะค่อนข้างต่างจาก java ซึ่งโดยปกติเราจะคิดว่าใช้ for กับการไล่ลำดับของตัวเลข แต่สำหรับ python แล้ว for จะทำการหยิบข้อมูลจาก list, range หรือ string มาทีละค่า"
   ]
  },
  {
   "cell_type": "code",
   "execution_count": 11,
   "metadata": {},
   "outputs": [
    {
     "name": "stdout",
     "output_type": "stream",
     "text": [
      "0\n",
      "1\n",
      "2\n",
      "3\n",
      "4\n",
      "5\n"
     ]
    }
   ],
   "source": [
    "alist = [0,1,2,3,4,5]\n",
    "for item in alist:\n",
    "    print(item * 2)"
   ]
  },
  {
   "cell_type": "code",
   "execution_count": 10,
   "metadata": {},
   "outputs": [
    {
     "name": "stdout",
     "output_type": "stream",
     "text": [
      "0\n",
      "1\n",
      "2\n",
      "3\n",
      "4\n",
      "5\n"
     ]
    }
   ],
   "source": [
    "r = range(6)\n",
    "for item in r:\n",
    "    print(item * 2)\n"
   ]
  },
  {
   "cell_type": "code",
   "execution_count": 12,
   "metadata": {},
   "outputs": [
    {
     "name": "stdout",
     "output_type": "stream",
     "text": [
      "0\n",
      "1\n",
      "2\n",
      "3\n",
      "4\n",
      "5\n"
     ]
    }
   ],
   "source": [
    "for item in range(6):\n",
    "    print(item *2)"
   ]
  },
  {
   "cell_type": "code",
   "execution_count": 15,
   "metadata": {},
   "outputs": [
    {
     "name": "stdout",
     "output_type": "stream",
     "text": [
      "00\n",
      "11\n",
      "22\n",
      "33\n",
      "44\n",
      "55\n"
     ]
    }
   ],
   "source": [
    "s = \"012345\"\n",
    "for item in s:\n",
    "    print(item * 2)"
   ]
  },
  {
   "cell_type": "code",
   "execution_count": 16,
   "metadata": {},
   "outputs": [
    {
     "name": "stdout",
     "output_type": "stream",
     "text": [
      "0\n",
      "2\n",
      "4\n",
      "6\n",
      "8\n",
      "10\n"
     ]
    }
   ],
   "source": [
    "s = \"012345\"\n",
    "for item in s:\n",
    "    print(int(item) * 2)"
   ]
  },
  {
   "cell_type": "markdown",
   "metadata": {},
   "source": [
    "ตัวอย่างทั้ง 5 for จะหยิบค่าจาก list, range หรือ string โดยให้ค่า item ที่เกือบจะเหมือนกันทั้งหมดคือ int จาก 0 - 5 แต่ในกรณีที่เป็น string จะแตกต่างตรงที่ for จะหยิบตัวอักษรทีละตัว ถ้าจะนำค่ามาใช้ในรูปแบบ int จะต้องแปลงด้วย int() ก่อน\n",
    "\n",
    "เราได้รู้แล้วว่า for สามารถใช้หยิบค่าทีละตัวจาก list ได้ และหยิบทีละตัวอักษรจาก string ได้ ให้นิสิตลองนึกดูว่าหากเรามี list ของ string แล้วต้องการแยกตัวอักษรออกมาอีกเป็นตัวๆ จะแก้ได้ด้วย for ซ้อน for ดังตัวอย่าง"
   ]
  },
  {
   "cell_type": "code",
   "execution_count": 2,
   "metadata": {},
   "outputs": [
    {
     "name": "stdout",
     "output_type": "stream",
     "text": [
      "The string is ant\n",
      "a\n",
      "n\n",
      "t\n",
      "The string is bee\n",
      "b\n",
      "e\n",
      "e\n",
      "The string is cat\n",
      "c\n",
      "a\n",
      "t\n",
      "The string is dog\n",
      "d\n",
      "o\n",
      "g\n"
     ]
    }
   ],
   "source": [
    "ls = [\"ant\",\"bee\",\"cat\",\"dog\"]\n",
    "for astring in ls :\n",
    "    print(\"The string is\",astring)\n",
    "    for achar in astring :\n",
    "        print(achar)"
   ]
  },
  {
   "cell_type": "markdown",
   "metadata": {},
   "source": [
    "โดย for แรกสุดและอยู่วงนอกสุดจะทำการไล่หยิบทีละ string จาก list เก็บไว้ใน astring แล้วแสดงผลออกมาให้ดูก่อน แล้ว for ที่สองที่อยู่วงในทำการหยิบแต่ละ ตัวอักษรใน astring ใส่ใน achar แล้วจึงแสดงผล\n",
    "\n",
    "### 3.3 if else elif\n",
    "จะเหมือนกับของ java คือ เป็นทางเลือกในการตัดสินใจ"
   ]
  },
  {
   "cell_type": "code",
   "execution_count": 5,
   "metadata": {},
   "outputs": [
    {
     "name": "stdout",
     "output_type": "stream",
     "text": [
      "5\n",
      "2.23606797749979\n"
     ]
    }
   ],
   "source": [
    "import math\n",
    "\n",
    "n = int(input())\n",
    "if n < 0:\n",
    "   print(\"Negative value cannot find the root.\")\n",
    "else:\n",
    "   print(math.sqrt(n))"
   ]
  },
  {
   "cell_type": "markdown",
   "metadata": {},
   "source": [
    "จากตัวอย่างนี้คือทำการรับข้อมูลแล้วแปลงให้อยู่ในรูปแบบ int เก็บไว้ที่ n เพื่อที่จะนำมาหารากที่สอง แต่การจะหารากที่สองได้นั้น n ต้องไม่เป็นค่าติดลบ ดังนั้นจึงทำการตรวจสอบเงื่อนไขก่อน หาก n < 0 จะพิมพ์คำเตือน แต่ถ้าไม่ตรงตามเงื่อนไข กล่าวคือ n >= 0 จะมาทำงานในส่วนของ else ทำการหารากที่สองแล้วแสดงผลออกมา\n",
    "\n",
    "จากตัวอย่างนี้เราเจอคำสั่งใหม่คือ import มีหน้าเหมือนใน java เลยคือเรียกใช้ฟังก์ชันจากภายนอกซึ่งในที่นี้คือ math มีไว้สำหรับการคำนวณที่ซับซ้อนกว่า +, -, \\*, / ทั่วไป\n",
    "\n",
    "#### คำถาม\n",
    "ให้นิสิตลองเขียนโปรแกรมคิดเกรดระดับคะแนนตามสมัยเรียนมัธยม ด้วย if และ else โดยยังไม่ใช้ elif\n",
    "\n",
    "คำตอบ"
   ]
  },
  {
   "cell_type": "code",
   "execution_count": 9,
   "metadata": {},
   "outputs": [
    {
     "name": "stdout",
     "output_type": "stream",
     "text": [
      "56\n",
      "D\n"
     ]
    }
   ],
   "source": [
    "score = int(input())\n",
    "if score >= 80:\n",
    "   print('A')\n",
    "else:\n",
    "   if score >=70:\n",
    "      print('B')\n",
    "   else:\n",
    "      if score >= 60:\n",
    "         print('C')\n",
    "      else:\n",
    "         if score >= 50:\n",
    "            print('D')\n",
    "         else:\n",
    "            print('F')"
   ]
  },
  {
   "cell_type": "markdown",
   "metadata": {},
   "source": [
    "การเขียนโดยไม่ใช้ elif จะทำให้การเขียนรหัสดูไม่สวยงามเพราะต้องย่อหน้าทุกครั้งที่มีการเลือกทำ else\n",
    "\n",
    "การทำงานของรหัสนี้คือ เมื่อรับ score เข้ามาแล้ว ตรวจสอบว่า score >= 80 หรือไม่ ถ้าใช่ก็ A ถ้าไม่ใช่คือ กรณีที่ score < 80 จะถูกนำมาพิจารณาต่อใน else ซึ่งเหลือค่าตั้งแต่ 79 - 0 นำมาเปรียบเทียบต่อว่า score >= 70 หรือไม่ถ้าใช่ก็ B ถ้าไม่ใช่ก็เหมือนตัดมาพิจารณาค่าตั้งแต่ 69 - 0 ไปเรื่อยๆ จนถึงกรณีที่เหลือช่วงค่า 49 - 0 ซึ่งก็ F ไป\n",
    "\n",
    "เราสามารถเขียนได้อีกแบบโดยใช้ elif ซึ่งให้ความหมายและการทำงานเดียวกันกับรหัสด้านบนแต่มีความสวยงามของรหัสมากกว่า โดย elif มีความหมายคือ ถ้าไม่ตรงเงื่อนไข if ให้มาตรวจสอบเงื่อนไขที่ elif หากไม่ตรงเงื่อนไขจะตรวจสอบ elif ถัดไป ถ้าหากไม่มี elif แล้วไม่เข้ากรณีไหนเลยก็จะเข้ามาทำที่ else"
   ]
  },
  {
   "cell_type": "code",
   "execution_count": 10,
   "metadata": {},
   "outputs": [
    {
     "name": "stdout",
     "output_type": "stream",
     "text": [
      "D\n"
     ]
    }
   ],
   "source": [
    "score = int(input())\n",
    "if score >= 80:\n",
    "   print('A')\n",
    "elif score >=70:\n",
    "   print('B')\n",
    "elif score >= 60:\n",
    "   print('C')\n",
    "elif score >= 50:\n",
    "   print('D')\n",
    "else:\n",
    "   print('F')"
   ]
  },
  {
   "cell_type": "markdown",
   "metadata": {},
   "source": [
    "การใช้ if อาจจะต้องไม่ต้องใช้ร่วมกับ else หรือ elif ก็ได้ ในความหมายก็คือ ถ้าตรงตามเงื่อนไข if ก็ให้ทำสโคปของ if แต่ถ้าไม่ตรงเงื่อนไขก็ไม่ต้องทำ เช่น"
   ]
  },
  {
   "cell_type": "code",
   "execution_count": 13,
   "metadata": {},
   "outputs": [
    {
     "name": "stdout",
     "output_type": "stream",
     "text": [
      "0\n",
      "Bye\n"
     ]
    }
   ],
   "source": [
    "age = int(input())\n",
    "if(age > 0) :\n",
    "    print(\"Your age is\",age)\n",
    "print(\"Bye\")"
   ]
  },
  {
   "cell_type": "markdown",
   "metadata": {},
   "source": [
    "ในตัวอย่างนี้ Bye จะถูกแสดงผลออกมาไม่ว่า age จะเป็นเท่าไหร่ แต่จะแสดงผล Your age is เมื่อ age > 0 เท่านั้น"
   ]
  },
  {
   "cell_type": "markdown",
   "metadata": {
    "collapsed": true
   },
   "source": [
    "## 4. ฟังก์ชัน (function)\n",
    "จากประสบการณ์นิสิตน่าจะเคยเจอว่าเขียนรหัสอยู่ใน main ยาวมากๆ บางครั้งมีการทำงานซ้ำๆ ในส่วนต่างๆ ของรหัสแล้วยิ่งรหัสยิ่งยาวยิ่งอ่านยาก ถ้ามีความผิดพลาด (bug) ก็จะยิ่งแก้ยาก ดังนั้นการเรียบเรียงความคิดการเขียนรหัสให้มองการทำงานของโปรแกรมเป็นส่วนย่อยๆ จะช่วยให้เราสามารถตีโจทย์ แก้ไขโจทย์ได้อย่างมีระบบและระเบียบ ง่ายแก่การทดสอบและแก้ไข "
   ]
  },
  {
   "cell_type": "code",
   "execution_count": 6,
   "metadata": {},
   "outputs": [
    {
     "name": "stdout",
     "output_type": "stream",
     "text": [
      "35.093828039952115\n"
     ]
    }
   ],
   "source": [
    "import math\n",
    "\n",
    "lx = [1,2,3,4,5]\n",
    "ly = [2,4,6,8,10]\n",
    "lz = [1,3,5,7,9]\n",
    "\n",
    "sum_x = 0\n",
    "for item in lx :\n",
    "    sum_x = sum_x + item**2\n",
    "sqrt_x = math.sqrt(sum_x)\n",
    "    \n",
    "sum_y = 0\n",
    "for item in ly :\n",
    "    sum_y = sum_y + item**2\n",
    "sqrt_y = math.sqrt(sum_y)\n",
    "    \n",
    "sum_z = 0\n",
    "for item in lz :\n",
    "    sum_z = sum_z + item**2\n",
    "sqrt_z = math.sqrt(sum_z)\n",
    "    \n",
    "print(sqrt_x + sqrt_y + sqrt_z)"
   ]
  },
  {
   "cell_type": "markdown",
   "metadata": {},
   "source": [
    "จากรหัสสิ่งที่ต้องการทำคือมี รับค่าข้อมูลขาเข้าเป็น list 3 ตัว แต่ละ list นำข้อมูลแต่ละตัวมายกกำลังสอง เสร็จแล้วนำมาบวกกัน ได้ผลบวกแล้วจึงนำมาหารากที่สอง เมื่อได้รากที่สองแล้วก็เอามาบวกกันของทั้ง 3 list พบว่ามีกระบวนการที่ซ้ำกันคือ \"แต่ละ list นำข้อมูลแต่ละตัวมายกกำลังสอง เสร็จแล้วนำมาบวกกัน ได้ผลบวกแล้วจึงนำมาหารากที่สอง\" แล้วทำไมเราต้องเขียนรหัสซ้ำไปซ้ำมา"
   ]
  },
  {
   "cell_type": "code",
   "execution_count": 17,
   "metadata": {},
   "outputs": [
    {
     "name": "stdout",
     "output_type": "stream",
     "text": [
      "35.093828039952115\n"
     ]
    }
   ],
   "source": [
    "def myFunction(l) :\n",
    "    mySum = 0\n",
    "    for item in l :\n",
    "        mySum = mySum + item**2\n",
    "    mySqrt = math.sqrt(mySum)\n",
    "    return mySqrt\n",
    "\n",
    "lx = [1,2,3,4,5]\n",
    "ly = [2,4,6,8,10]\n",
    "lz = [1,3,5,7,9]\n",
    "\n",
    "sqrt_x = myFunction(lx)\n",
    "sqrt_y = myFunction(ly)\n",
    "sqrt_z = myFunction(lz)\n",
    "\n",
    "print(sqrt_x + sqrt_y + sqrt_z)"
   ]
  },
  {
   "cell_type": "markdown",
   "metadata": {},
   "source": [
    "รหัสนี้ดูมีระเบียบและอ่านได้ง่ายกว่าอย่างเห็นได้ชัด ในส่วนของ myFunction ซึ่งเป็นฟังก์ชันที่เราประกาศให้ทำงาน \"แต่ละ list นำข้อมูลแต่ละตัวมายกกำลังสอง เสร็จแล้วนำมาบวกกัน ได้ผลบวกแล้วจึงนำมาหารากที่สอง\" โดยแต่ละ list นั้นรับค่าผ่านพารามิเตอร์ l แล้วคืนค่าออกมาผ่าน return mySqrt \n",
    "\n",
    "เมื่อเราอยากจะเขียนฟังก์ชันเนื่องจากเจอการทำงานแบบซ้ำๆ มีหลักคิดง่ายๆ คือ ให้นึกว่าการทำงานแบบซ้ำๆ นั้นเป็นไส้ในของฟังก์ชันแต่ส่วนที่ต้องคิดเพิ่มคือ ส่วนหัวของฟังก์ชันจะต้องประกาศอย่างไร และจะคืนค่าอย่างไร \n",
    "\n",
    "ส่วนหัวของฟังก์ชันต้องประกาศด้วย def ชื่อฟังก์ชัน (พารามิเตอร์) : นี่คือวากยสัมพันธ์แต่สิ่งที่เป็นหัวใจคือ จะต้องส่งพารามิเตอร์อะไรเข้าสู่ฟังก์ชัน จากประสบการณ์แล้ว ยากมากและต้องใช้ประสบการณ์เยอะมากหากต้องการประกาศพารามิเตอร์ที่ใช้ให้ถูกต้องในครั้งเดียว นิสิตอาจจะเริ่มจากการประกาศชื่อ จัดการกับไส้ในแบบง่ายๆ ก่อน "
   ]
  },
  {
   "cell_type": "code",
   "execution_count": 10,
   "metadata": {
    "collapsed": true
   },
   "outputs": [],
   "source": [
    "def nisitFunction() :\n",
    "    lx = [1,2,3,4,5]\n",
    "    sum_x = 0\n",
    "    for item in lx :\n",
    "        sum_x = sum_x + item**2\n",
    "    sqrt_x = math.sqrt(sum_x)\n",
    "\n",
    "# call the function\n",
    "nisitFunction()"
   ]
  },
  {
   "cell_type": "markdown",
   "metadata": {},
   "source": [
    "ฟังก์ชันนี้เกิดจากการคัดลอกรหัสที่ยังไม่ได้จัดระเบียบมาตรงๆ จะใช้งานได้เฉพาะ lx = [1,2,3,4,5] เท่านั้น แต่เราอยากจะทำกับ list ใดๆ ก็ได้ ดังนั้น list ใดๆ ที่ว่าก็ควรจะเป็นหนึ่งในพารามิเตอร์ที่ส่งผ่านเข้าฟังก์ชัน"
   ]
  },
  {
   "cell_type": "code",
   "execution_count": 12,
   "metadata": {
    "collapsed": true
   },
   "outputs": [],
   "source": [
    "def nisitFunction(lx) :\n",
    "    sum_x = 0\n",
    "    for item in lx :\n",
    "        sum_x = sum_x + item**2\n",
    "    sqrt_x = math.sqrt(sum_x)\n",
    "    \n",
    "# call the function\n",
    "lx = [1,2,3,4,5]\n",
    "nisitFunction(lx)"
   ]
  },
  {
   "cell_type": "markdown",
   "metadata": {},
   "source": [
    "นิสิตอาจจะสงสัยว่าไม่มีอะไรแสดงผลออกมาเลย แน่นอนเพราะเรายังขาดอีกหลายส่วน ลองอ่านรหัสส่วน nisitFunction ดู จะเห็นว่ามันก็ทำงานไปเฉยๆ เสร็จแล้วก็จบกัน แต่ไม่มีการคืนค่าอะไรออกมาเลย ตรงนี้ไม่ยากเลยเพราะเรามีเจตนาให้คืนค่า sqrt_x เราก็แค่ใส่ return sqrt_x เป็นอันจบ ส่วนการเรียกใช้งานเราก็สามารถเอาตัวแปรมารับการคืนค่าได้ง่ายๆ เลย"
   ]
  },
  {
   "cell_type": "code",
   "execution_count": 18,
   "metadata": {},
   "outputs": [
    {
     "name": "stdout",
     "output_type": "stream",
     "text": [
      "7.416198487095663\n"
     ]
    }
   ],
   "source": [
    "def nisitFunction(lx) :\n",
    "    sum_x = 0\n",
    "    for item in lx :\n",
    "        sum_x = sum_x + item**2\n",
    "    sqrt_x = math.sqrt(sum_x)\n",
    "    return sqrt_x\n",
    "    \n",
    "# call the function\n",
    "lx = [1,2,3,4,5]\n",
    "sqrt_x = nisitFunction(lx)\n",
    "print(sqrt_x)"
   ]
  },
  {
   "cell_type": "markdown",
   "metadata": {},
   "source": [
    "เราได้องค์ประกอบของฟังก์ชันครบแล้ว สิ่งที่เหลือคือนำไปใช้งานให้ได้ครบๆ ตามที่โจทย์ต้องการทั้ง lx, ly และ lz"
   ]
  },
  {
   "cell_type": "code",
   "execution_count": 28,
   "metadata": {},
   "outputs": [
    {
     "name": "stdout",
     "output_type": "stream",
     "text": [
      "35.093828039952115\n"
     ]
    }
   ],
   "source": [
    "import math\n",
    "def nisitFunction(lx) :\n",
    "    sum_x = 0\n",
    "    for item in lx :\n",
    "        sum_x = sum_x + item**2\n",
    "    sqrt_x = math.sqrt(sum_x)\n",
    "    return sqrt_x\n",
    "    \n",
    "# call the function\n",
    "lx = [1,2,3,4,5] # line 9\n",
    "ly = [2,4,6,8,10] # line 10\n",
    "lz = [1,3,5,7,9] # line 11\n",
    "\n",
    "sqrt_x = nisitFunction(lx)\n",
    "sqrt_y = nisitFunction(ly)\n",
    "sqrt_z = nisitFunction(lz)\n",
    "\n",
    "print(sqrt_x + sqrt_y + sqrt_z)"
   ]
  },
  {
   "cell_type": "markdown",
   "metadata": {},
   "source": [
    "นิสิตอาจจะเกิดความสงสัยว่า nisitFunction รับ lx แต่ทำไมพอเราส่งค่า ly กับ lz เข้าไปถึงทำงานได้ ให้นิสิตย้อนกลับไปดูรหัสที่จัดระเบียบแล้วที่รับพารามิเตอร์เป็น l แทนที่จะรับ lx ที่ทำแบบนี้เพราะจะลดความสับสน แต่การทำงานจริงๆ แล้วให้ผลแบบเดียวกัน ตรงนี้จะอธิบาย nisitFunction คือ\n",
    "\n",
    "บรรทัดที่ 14 sqrt_x = nisitFunction(lx) สิ่งที่เกิดขึ้นตอนเข้าไปทำ nisitFunction คือ นำ lx ที่บรรทัดที่ 10 เข้าไปกำหนดให้กับ lx ของ nisitFunction แล้วรหัสไส้ในของ nisitFunction จะเข้าใจว่า lx นี้คือ lx ที่บรรทัดที่ 10\n",
    "\n",
    "บรรทัดที่ 15 sqrt_y = nisitFunction(ly) สิ่งที่เกิดขึ้นตอนเข้าไปทำ nisitFunction คือ นำ ly ที่บรรทัดที่ 11 เข้าไปกำหนดให้กับ lx ของ nisitFunction แล้วรหัสไส้ในของ nisitFunction จะเข้าใจว่า lx นี้คือ ly ที่บรรทัดที่ 11\n",
    "\n",
    "บรรทัดที่ 16 sqrt_z = nisitFunction(lz) สิ่งที่เกิดขึ้นตอนเข้าไปทำ nisitFunction คือ นำ lz ที่บรรทัดที่ 12 เข้าไปกำหนดให้กับ lx ของ nisitFunction แล้วรหัสไส้ในของ nisitFunction จะเข้าใจว่า lx นี้คือ lz ที่บรรทัดที่ 12\n",
    "\n",
    "แต่ถ้าไม่อยากสับสนในการใช้งาน ขอแนะนำให้นิสิตใช้พารามิเตอร์และตัวแปรอื่นๆ ในฟังก์ชันให้ชื่อเป็นกลางๆ จะทำให้เข้าใจได้ง่ายกว่า\n",
    "และเพื่อเพิ่มเติมความเข้าใจให้นิสิตลองไล่รหัสดูความเปลี่ยนแปลงในการอ้างอิงที่ขั้นที่ 7, 24 และ 41"
   ]
  },
  {
   "cell_type": "code",
   "execution_count": 6,
   "metadata": {},
   "outputs": [
    {
     "data": {
      "text/html": [
       "\n",
       "        <iframe\n",
       "            width=\"1050\"\n",
       "            height=\"512\"\n",
       "            src=\"http://www.pythontutor.com/iframe-embed.html#code=import%20math%0Adef%20nisitFunction%28lx%29%20%3A%0A%20%20%20%20sum_x%20%3D%200%0A%20%20%20%20for%20item%20in%20lx%20%3A%0A%20%20%20%20%20%20%20%20sum_x%20%3D%20sum_x%20%2B%20item**2%0A%20%20%20%20sqrt_x%20%3D%20math.sqrt%28sum_x%29%0A%20%20%20%20return%20sqrt_x%0A%20%20%20%20%0A%23%20call%20the%20function%0Alx%20%3D%20%5B1,2,3,4,5%5D%20%23%20line%209%0Aly%20%3D%20%5B2,4,6,8,10%5D%20%23%20line%2010%0Alz%20%3D%20%5B1,3,5,7,9%5D%20%23%20line%2011%0A%0Asqrt_x%20%3D%20nisitFunction%28lx%29%0Asqrt_y%20%3D%20nisitFunction%28ly%29%0Asqrt_z%20%3D%20nisitFunction%28lz%29%0A%0Aprint%28sqrt_x%20%2B%20sqrt_y%20%2B%20sqrt_z%29&cumulative=false&curInstr=6&heapPrimitives=false&mode=display&origin=opt-frontend.js&py=3&rawInputLstJSON=%5B%5D&textReferences=false\"\n",
       "            frameborder=\"0\"\n",
       "            allowfullscreen\n",
       "        ></iframe>\n",
       "        "
      ],
      "text/plain": [
       "<IPython.lib.display.IFrame at 0x1b97c2a88d0>"
      ]
     },
     "execution_count": 6,
     "metadata": {},
     "output_type": "execute_result"
    }
   ],
   "source": [
    "from IPython.display import IFrame\n",
    "IFrame('http://www.pythontutor.com/iframe-embed.html#code=import%20math%0Adef%20nisitFunction%28lx%29%20%3A%0A%20%20%20%20sum_x%20%3D%200%0A%20%20%20%20for%20item%20in%20lx%20%3A%0A%20%20%20%20%20%20%20%20sum_x%20%3D%20sum_x%20%2B%20item**2%0A%20%20%20%20sqrt_x%20%3D%20math.sqrt%28sum_x%29%0A%20%20%20%20return%20sqrt_x%0A%20%20%20%20%0A%23%20call%20the%20function%0Alx%20%3D%20%5B1,2,3,4,5%5D%20%23%20line%209%0Aly%20%3D%20%5B2,4,6,8,10%5D%20%23%20line%2010%0Alz%20%3D%20%5B1,3,5,7,9%5D%20%23%20line%2011%0A%0Asqrt_x%20%3D%20nisitFunction%28lx%29%0Asqrt_y%20%3D%20nisitFunction%28ly%29%0Asqrt_z%20%3D%20nisitFunction%28lz%29%0A%0Aprint%28sqrt_x%20%2B%20sqrt_y%20%2B%20sqrt_z%29&cumulative=false&curInstr=6&heapPrimitives=false&mode=display&origin=opt-frontend.js&py=3&rawInputLstJSON=%5B%5D&textReferences=false', width=1050, height=512)"
   ]
  },
  {
   "cell_type": "markdown",
   "metadata": {},
   "source": [
    "นอกจากนี้ฟังก์ชันยังสามารถรับพารามิเตอร์ได้มากกว่า 1 ตัว เช่น ถ้าอยากจะสร้างฟังก์ชันที่บวกทุกๆ ตัวใน list l ด้วยค่า a"
   ]
  },
  {
   "cell_type": "code",
   "execution_count": 1,
   "metadata": {},
   "outputs": [
    {
     "name": "stdout",
     "output_type": "stream",
     "text": [
      "[4, 5, 6, 7, 8]\n"
     ]
    }
   ],
   "source": [
    "def nisitGetMoreScore(l,a) :\n",
    "    for i in range(len(l)) :\n",
    "        l[i] = l[i] + a\n",
    "        \n",
    "lx = [1,2,3,4,5]\n",
    "ax = 3\n",
    "\n",
    "nisitGetMoreScore(lx,ax)\n",
    "print(lx)\n",
    "    "
   ]
  },
  {
   "cell_type": "code",
   "execution_count": 7,
   "metadata": {},
   "outputs": [
    {
     "data": {
      "text/html": [
       "\n",
       "        <iframe\n",
       "            width=\"1050\"\n",
       "            height=\"512\"\n",
       "            src=\"http://www.pythontutor.com/iframe-embed.html#code=def%20nisitGetMoreScore%28l,a%29%20%3A%0A%20%20%20%20for%20i%20in%20range%28len%28l%29%29%20%3A%0A%20%20%20%20%20%20%20%20l%5Bi%5D%20%3D%20l%5Bi%5D%20%2B%20a%0A%20%20%20%20%20%20%20%20%0Alx%20%3D%20%5B1,2,3,4,5%5D%0Aax%20%3D%203%0A%0AnisitGetMoreScore%28lx,ax%29%0Aprint%28lx%29%0A&cumulative=false&curInstr=4&heapPrimitives=false&mode=display&origin=opt-frontend.js&py=3&rawInputLstJSON=%5B%5D&textReferences=false\"\n",
       "            frameborder=\"0\"\n",
       "            allowfullscreen\n",
       "        ></iframe>\n",
       "        "
      ],
      "text/plain": [
       "<IPython.lib.display.IFrame at 0x1b97c2a8908>"
      ]
     },
     "execution_count": 7,
     "metadata": {},
     "output_type": "execute_result"
    }
   ],
   "source": [
    "from IPython.display import IFrame\n",
    "IFrame('http://www.pythontutor.com/iframe-embed.html#code=def%20nisitGetMoreScore%28l,a%29%20%3A%0A%20%20%20%20for%20i%20in%20range%28len%28l%29%29%20%3A%0A%20%20%20%20%20%20%20%20l%5Bi%5D%20%3D%20l%5Bi%5D%20%2B%20a%0A%20%20%20%20%20%20%20%20%0Alx%20%3D%20%5B1,2,3,4,5%5D%0Aax%20%3D%203%0A%0AnisitGetMoreScore%28lx,ax%29%0Aprint%28lx%29%0A&cumulative=false&curInstr=4&heapPrimitives=false&mode=display&origin=opt-frontend.js&py=3&rawInputLstJSON=%5B%5D&textReferences=false', width=1050, height=512)"
   ]
  },
  {
   "cell_type": "markdown",
   "metadata": {},
   "source": [
    "จากตัวอย่างนี้เราได้ความรู้เพิ่มอีก 2 สิ่งคือ ฟังก์ชันนี้ไม่มีการคืนค่าและการเปลี่ยนแปลงค่าใน list สามารถทำได้ผ่านพารามิเตอร์ที่ทำได้เช่นนี้เพราะการส่งค่า lx ไปเป็น l ใน nisitGetMoreScore เป็นการส่งพารามิเตอร์แบบอ้างอิง ดังแสดงในขั้นที่ 5 ที่ lx และ l อ้างอิงไปที่ list ตัวเดียวกัน\n",
    "\n",
    "แล้วมีกรณีไหนบ้างที่ส่งค่าไปแล้วการเปลี่ยนแปลงภายในฟังก์ชันไม่ส่งผลต่อพารามิเตอร์ที่ส่งเข้าไป ก็คือพวกรูปแบบข้อมูลพื้นฐานทั้งหลาย เช่น"
   ]
  },
  {
   "cell_type": "code",
   "execution_count": 1,
   "metadata": {},
   "outputs": [
    {
     "name": "stdout",
     "output_type": "stream",
     "text": [
      "3\n",
      "1\n"
     ]
    }
   ],
   "source": [
    "def tryToAdd(b,a) :\n",
    "    b = b + a\n",
    "    print(b)\n",
    "    \n",
    "b = 1\n",
    "a = 2\n",
    "tryToAdd(b,a)\n",
    "print(b)"
   ]
  },
  {
   "cell_type": "code",
   "execution_count": 8,
   "metadata": {},
   "outputs": [
    {
     "data": {
      "text/html": [
       "\n",
       "        <iframe\n",
       "            width=\"1050\"\n",
       "            height=\"512\"\n",
       "            src=\"http://www.pythontutor.com/iframe-embed.html#code=def%20tryToAdd%28b,a%29%20%3A%0A%20%20%20%20b%20%3D%20b%20%2B%20a%0A%20%20%20%20print%28b%29%0A%20%20%20%20%0Ab%20%3D%201%0Aa%20%3D%202%0AtryToAdd%28b,a%29%0Aprint%28b%29%0A&cumulative=false&curInstr=6&heapPrimitives=false&mode=display&origin=opt-frontend.js&py=3&rawInputLstJSON=%5B%5D&textReferences=false\"\n",
       "            frameborder=\"0\"\n",
       "            allowfullscreen\n",
       "        ></iframe>\n",
       "        "
      ],
      "text/plain": [
       "<IPython.lib.display.IFrame at 0x1b97c2a8860>"
      ]
     },
     "execution_count": 8,
     "metadata": {},
     "output_type": "execute_result"
    }
   ],
   "source": [
    "from IPython.display import IFrame\n",
    "IFrame('http://www.pythontutor.com/iframe-embed.html#code=def%20tryToAdd%28b,a%29%20%3A%0A%20%20%20%20b%20%3D%20b%20%2B%20a%0A%20%20%20%20print%28b%29%0A%20%20%20%20%0Ab%20%3D%201%0Aa%20%3D%202%0AtryToAdd%28b,a%29%0Aprint%28b%29%0A&cumulative=false&curInstr=6&heapPrimitives=false&mode=display&origin=opt-frontend.js&py=3&rawInputLstJSON=%5B%5D&textReferences=false', width=1050, height=512)"
   ]
  },
  {
   "cell_type": "markdown",
   "metadata": {},
   "source": [
    "จากการไล่รหัสที่ขั้นที่ 7 เราจะเห็นได้ว่า b ที่เป็นตัวแปรภายใน tryToAdd ถูกเปลี่ยนแปลงค่าจาก 1 เป็น 3 ในขณะที่มีตัวแปร b ภายนอกที่ยังคงเป็น 1 อยู่เหมือนเดิม ดังนั้นในการเขียนโปรแกรมนิสิตจะต้องระมัดระวังในเรื่องการส่งพารามิเตอร์แบบกำหนดค่าหรือแบบอ้างอิง เพื่อหลีกเลี่ยงความผิดพลาด"
   ]
  },
  {
   "cell_type": "code",
   "execution_count": null,
   "metadata": {
    "collapsed": true
   },
   "outputs": [],
   "source": []
  }
 ],
 "metadata": {
  "kernelspec": {
   "display_name": "Python 3",
   "language": "python",
   "name": "python3"
  },
  "language_info": {
   "codemirror_mode": {
    "name": "ipython",
    "version": 3
   },
   "file_extension": ".py",
   "mimetype": "text/x-python",
   "name": "python",
   "nbconvert_exporter": "python",
   "pygments_lexer": "ipython3",
   "version": "3.6.3"
  }
 },
 "nbformat": 4,
 "nbformat_minor": 2
}
